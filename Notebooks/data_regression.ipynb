{
  "nbformat": 4,
  "nbformat_minor": 0,
  "metadata": {
    "colab": {
      "name": "data_regression.ipynb",
      "provenance": [],
      "collapsed_sections": [
        "UhqZvzbYluhx",
        "1uVa-xiulw5v",
        "Gdd8P9FlMZ2R",
        "GZuZsAVtx9kp",
        "J9go97NcTbua",
        "aD3X3VoKwp6V",
        "QWeKEuDt__B0",
        "OvHM5HUZ2kEx",
        "KotsswgU2WSm",
        "pAEGFlkx9Jcp",
        "l4neiJ9QwQhZ",
        "AWmDFuun_22P",
        "Vk4qS0z6Ab6B",
        "Ou2qBVOT_9EL",
        "4QL3SLfc_9pO",
        "DT2nPn4b_-Ic",
        "sW6e3LjR_-jC",
        "-W6XLNfK_Rsh",
        "IsPx1_fRq8Wm",
        "iyLHFIQL_uyE",
        "tD161sn7AskO",
        "yDa08g1ECPEH",
        "DUFfZyWaCRTL",
        "Z5jzVAQLCTMw",
        "HzL5YekGCVUr",
        "t3bOIm6l_go_"
      ]
    },
    "kernelspec": {
      "name": "python3",
      "display_name": "Python 3"
    }
  },
  "cells": [
    {
      "cell_type": "markdown",
      "metadata": {
        "id": "UhqZvzbYluhx"
      },
      "source": [
        "# Imports"
      ]
    },
    {
      "cell_type": "code",
      "metadata": {
        "id": "0rpAKTrdT29j"
      },
      "source": [
        "# imports\n",
        "\n",
        "import numpy as np\n",
        "import matplotlib.pyplot as plt\n",
        "import seaborn as sns\n",
        "import pandas as pd\n",
        "from pandas.plotting import table\n",
        "import os, glob\n",
        "from os import path\n",
        "import shutil\n",
        "import statsmodels.api as sm\n",
        "from sklearn import linear_model\n",
        "import datetime\n",
        "from scipy import stats\n",
        "from scipy.stats import norm\n",
        "from statsmodels.compat import lzip\n",
        "import statsmodels.stats.api as sms\n",
        "from math import e"
      ],
      "execution_count": null,
      "outputs": []
    },
    {
      "cell_type": "markdown",
      "metadata": {
        "id": "1uVa-xiulw5v"
      },
      "source": [
        "# Anzahl der angezeigten Spalten und Zeilen"
      ]
    },
    {
      "cell_type": "code",
      "metadata": {
        "id": "AThyp5tmVqzJ"
      },
      "source": [
        "pd.set_option(\"display.max_columns\", None)\n",
        "pd.set_option(\"display.max_rows\", None)"
      ],
      "execution_count": null,
      "outputs": []
    },
    {
      "cell_type": "code",
      "metadata": {
        "id": "BmsyMCgUVreJ"
      },
      "source": [
        "pd.reset_option(\"display.max_columns\")\n",
        "pd.reset_option(\"display.max_rows\")"
      ],
      "execution_count": null,
      "outputs": []
    },
    {
      "cell_type": "code",
      "metadata": {
        "id": "O1AmgW0LgZIu"
      },
      "source": [
        "pd.set_option(\"display.max_colwidth\", 0)"
      ],
      "execution_count": null,
      "outputs": []
    },
    {
      "cell_type": "code",
      "metadata": {
        "id": "DaHiV-A8glV1"
      },
      "source": [
        "pd.reset_option(\"display.max_columns\", None)"
      ],
      "execution_count": null,
      "outputs": []
    },
    {
      "cell_type": "markdown",
      "metadata": {
        "id": "z6cGacvigIVR"
      },
      "source": [
        "# einlesen"
      ]
    },
    {
      "cell_type": "code",
      "metadata": {
        "id": "5uPYIB2IwFBf"
      },
      "source": [
        "source = \"/content/drive/MyDrive/BA/Daten Regression/\"\n",
        "\n",
        "stats = pd.read_csv(source + \"stats.csv\")\n",
        "matches = pd.read_csv(source + \"matches.csv\")\n",
        "tables = pd.read_csv(source + \"tables.csv\") "
      ],
      "execution_count": null,
      "outputs": []
    },
    {
      "cell_type": "markdown",
      "metadata": {
        "id": "DpgxwBGNeKl9"
      },
      "source": [
        "# Regression"
      ]
    },
    {
      "cell_type": "markdown",
      "metadata": {
        "id": "Gdd8P9FlMZ2R"
      },
      "source": [
        "## Vorbereitung"
      ]
    },
    {
      "cell_type": "code",
      "metadata": {
        "id": "JFqe9Ac9O0ca"
      },
      "source": [
        "# drop the players who have an entry in the files but have not participated in the game\n",
        "\n",
        "stats.drop(stats[(stats[\"Min\"].isna())&(stats[\"PlayerID\"] >= 14)].index, inplace=True)\n",
        "\n",
        "# define the relevant columns\n",
        "relevant_stats_cols_df = stats[[\"League\", \"GameID\", \"PlayerID\", \"Squad\", \"Player\", \"#\", \"Nation\", \"Pos\", \"Age\", \"Min\",\n",
        "                 \"PassesAtt\", \"Carries\", \"Sh\", \"Tkl\", \"Press\",\n",
        "                 \"PassesCmp\", \"PassesCmp%\", \"DribblesSucc\", \"DribblesAtt\", \"DribblesSucc%\", \"TklW\", \"PressSucc\", \"Press%\"]]\n",
        "\n",
        "# calculate the sums for the columns \"PassesCmp%\", \"DribblesSucc%\", \"Press%\" and from these the mean values\n",
        "sum_of_relevant_stats_cols = relevant_stats_cols_df.groupby([\"League\", \"GameID\", \"Squad\"])[\"PassesAtt\", \"PassesCmp\", \"DribblesAtt\", \"DribblesSucc\", \"Press\", \"PressSucc\"].sum()\n",
        "sum_of_relevant_stats_cols[\"PassesCmp%\"] = [np.round((sum_of_relevant_stats_cols[\"PassesCmp\"][i] / sum_of_relevant_stats_cols[\"PassesAtt\"][i])*100, 1) for i in range(len(sum_of_relevant_stats_cols))]\n",
        "sum_of_relevant_stats_cols[\"DribblesSucc%\"] = [np.round((sum_of_relevant_stats_cols[\"DribblesSucc\"][i] / sum_of_relevant_stats_cols[\"DribblesAtt\"][i])*100, 1) for i in range(len(sum_of_relevant_stats_cols))]\n",
        "sum_of_relevant_stats_cols[\"Press%\"] = [np.round((sum_of_relevant_stats_cols[\"PressSucc\"][i] / sum_of_relevant_stats_cols[\"Press\"][i])*100, 1) for i in range(len(sum_of_relevant_stats_cols))]\n",
        "\n",
        "# create the df with mean values for the teams \n",
        "mean_of_relevant_stats_cols = relevant_stats_cols_df.groupby([\"League\", \"GameID\", \"Squad\"])[\"PassesAtt\", \"Carries\", \"Sh\", \"Tkl\", \"Press\",\"TklW\"].mean()\n",
        "merged_mean_of_relevant_stats_cols = mean_of_relevant_stats_cols.merge(sum_of_relevant_stats_cols[[\"PassesCmp%\", \"DribblesSucc%\", \"Press%\"]], left_index=True, right_index=True)\n",
        "merged_mean_of_relevant_stats_cols_res_ind = merged_mean_of_relevant_stats_cols.reset_index()\n",
        "mean_df = pd.merge(merged_mean_of_relevant_stats_cols_res_ind, matches[[\"GameID\", \"League\", \"Temperature\", \"Rain\", \"Humidity\", \"Home Team Rank\", \"Away Team Rank\"]], on = [\"GameID\", \"League\"])"
      ],
      "execution_count": null,
      "outputs": []
    },
    {
      "cell_type": "code",
      "metadata": {
        "id": "ntskq8U8kdr8"
      },
      "source": [
        "# update the name of the club \"Eintracht Frankfurt\" from \"Eint Frankfurt\" to \"Frankfurt\", like it is in the stats dataset \n",
        "\n",
        "matches[\"Home\"] = [\"Frankfurt\" if i == \"Eint Frankfurt\" else i for i in matches[\"Home\"]]\n",
        "matches[\"Away\"] = [\"Frankfurt\" if i == \"Eint Frankfurt\" else i for i in matches[\"Away\"]]"
      ],
      "execution_count": null,
      "outputs": []
    },
    {
      "cell_type": "code",
      "metadata": {
        "id": "2GkTJdqGkSHX"
      },
      "source": [
        "# create the data set containing only the home teams\n",
        "mean_df_home = pd.merge(merged_mean_of_relevant_stats_cols_res_ind, matches[[\"GameID\", \"League\", \"Home\", \"Temperature\", \"Rain\", \"Humidity\", \"Home Team Rank\", \"Away Team Rank\"]], right_on = [\"GameID\", \"League\", \"Home\"], left_on=[\"GameID\", \"League\", \"Squad\"])\n",
        "mean_df_home.drop(\"Home\", axis=1, inplace=True)"
      ],
      "execution_count": null,
      "outputs": []
    },
    {
      "cell_type": "code",
      "metadata": {
        "id": "qWNDuLlTu1pu"
      },
      "source": [
        "# square the variable \"PassesCmp%\", apply the square root to \"Sh\", \"Tkl\", \"TklW\", \"Press%\" and the logarithm to \"PassesAtt\", \"Carries\", \"Press\"\n",
        "\n",
        "mean_df[\"PassesCmp%\"] = np.power(mean_df[\"PassesCmp%\"], 2)\n",
        "mean_df[[\"Sh\", \"Tkl\", \"TklW\", \"Press%\"]] = np.sqrt(mean_df[[\"Sh\", \"Tkl\", \"TklW\", \"Press%\"]])\n",
        "mean_df[[\"PassesAtt\", \"Carries\", \"Press\"]] = np.log(mean_df[[\"PassesAtt\", \"Carries\", \"Press\"]])"
      ],
      "execution_count": null,
      "outputs": []
    },
    {
      "cell_type": "code",
      "metadata": {
        "id": "kAGI1UpiuQZu"
      },
      "source": [
        "# square the variable \"PassesCmp%\", apply the square root to \"Sh\", \"Tkl\", \"TklW\", \"Press%\" and the logarithm to \"PassesAtt\", \"Carries\", \"Press\"\n",
        "\n",
        "mean_df_home[\"PassesCmp%\"] = np.power(mean_df_home[\"PassesCmp%\"], 2)\n",
        "mean_df_home[[\"Sh\", \"Tkl\", \"TklW\", \"Press%\"]] = np.sqrt(mean_df_home[[\"Sh\", \"Tkl\", \"TklW\", \"Press%\"]])\n",
        "mean_df_home[[\"PassesAtt\", \"Carries\", \"Press\"]] = np.log(mean_df_home[[\"PassesAtt\", \"Carries\", \"Press\"]])"
      ],
      "execution_count": null,
      "outputs": []
    },
    {
      "cell_type": "code",
      "metadata": {
        "id": "8cTZem_ROb6Z"
      },
      "source": [
        "# section of the table before the aggregation\n",
        "mean_df.loc[804:,:].head(5).to_latex()"
      ],
      "execution_count": null,
      "outputs": []
    },
    {
      "cell_type": "code",
      "metadata": {
        "id": "18GOrYe0Kbw6"
      },
      "source": [
        "# section of the table after the aggregation\n",
        "relevant_stats_cols_df.loc[11183:,:].head(30).to_latex()"
      ],
      "execution_count": null,
      "outputs": []
    },
    {
      "cell_type": "code",
      "metadata": {
        "id": "qGwliGvOM6_L"
      },
      "source": [
        "# add the weather conditions of the matches and team ranks of the opponents from the matches df to the stats df for the regression \n",
        "\n",
        "stats_regr = pd.merge(stats, matches[[\"GameID\",\"League\",\"Temperature\", \"Rain\", \"Humidity\", \"Home Team Rank\", \"Away Team Rank\"]], on = [\"GameID\", \"League\"])"
      ],
      "execution_count": null,
      "outputs": []
    },
    {
      "cell_type": "markdown",
      "metadata": {
        "id": "mVSE-OD8mBn1"
      },
      "source": [
        "## Statsmodels Regression"
      ]
    },
    {
      "cell_type": "code",
      "metadata": {
        "id": "tMlmsscS-4JQ"
      },
      "source": [
        "# state the independent and dependent variables \n",
        "\n",
        "in_vars_base = [\"Temperature\", \"Rain\", \"Humidity\"]\n",
        "tactic_stats = [\"PassesAtt\", \"Carries\", \"Sh\", \"Tkl\", \"Press\"]\n",
        "tactic_matches = [\"Possession Home\", \"Possession Away\"]\n",
        "perf_stats = [\"PassesCmp%\", \"DribblesSucc%\", \"TklW\", \"Press%\"]\n",
        "perf_matches = [] # this list is intentionally left empty, as none of the performance variables examined were in the matches data set"
      ],
      "execution_count": null,
      "outputs": []
    },
    {
      "cell_type": "markdown",
      "metadata": {
        "id": "GZuZsAVtx9kp"
      },
      "source": [
        "### Funktionen"
      ]
    },
    {
      "cell_type": "code",
      "metadata": {
        "id": "nfY-jAVm-ZTb"
      },
      "source": [
        "def scatter_plots(stats_df, matches_df, var_type, league, rows, cols, size=(20, 28)):\n",
        "  \"\"\"\n",
        "    Prints the scatter plots.\n",
        "\n",
        "            Parameters:\n",
        "                    stats_df (data frame)   : Statistics data frame on which the scatter plot is performed\n",
        "                    matches_df (data frame) : Matches data frame on which the scatter plot is performed\n",
        "                    var_type (str)          : Type of variable for the scatter plot\n",
        "                    league (str)            : Name and season of the league for the scatter plot\n",
        "                    rows (int)              : Number of rows for the scatter plot grid\n",
        "                    cols (int)              : Number of columns for the scatter plot grid\n",
        "                    size (int)              : Size of the scatter plot (default (20, 28))\n",
        "\n",
        "            Returns:\n",
        "                    None\n",
        "  \"\"\"\n",
        "\n",
        "  if var_type == \"tactic\":\n",
        "    fig1, ax1 = plt.subplots(rows, cols, figsize=size)\n",
        "\n",
        "    # temperature\n",
        "    index_t = 0\n",
        "    for dep_var_t in [\"PassesAtt\", \"Carries\", \"Sh\", \"Tkl\", \"Press\", \"Possession Home\", \"Possession Away\"]:\n",
        "      if dep_var_t != \"Possession Home\" and dep_var_t != \"Possession Away\":\n",
        "        print(sns.regplot(ax=ax1[index_t, 0], x=dep_var_t, y=\"Temperature\", data=stats_df[stats_df[\"League\"] == league], \n",
        "                          fit_reg=True, \n",
        "                          scatter_kws={\"color\":\"black\"}, line_kws={\"color\":\"red\"}))\n",
        "      else:\n",
        "        print(sns.regplot(ax=ax1[index_t, 0], x=dep_var_t, y=\"Temperature\", data=matches_df[matches_df[\"League\"] == league], \n",
        "                          fit_reg=True, \n",
        "                          scatter_kws={\"color\":\"black\"}, line_kws={\"color\":\"red\"}))\n",
        "      index_t += 1\n",
        "\n",
        "\n",
        "    # rain\n",
        "    index_r = 0\n",
        "    for dep_var_r in [\"PassesAtt\", \"Carries\", \"Sh\", \"Tkl\", \"Press\", \"Possession Home\", \"Possession Away\"]:\n",
        "      if dep_var_r != \"Possession Home\" and dep_var_r != \"Possession Away\":\n",
        "        print(sns.regplot(ax=ax1[index_r, 1], x=dep_var_r, y=\"Rain\", data=stats_df[stats_df[\"League\"] == league], \n",
        "                          fit_reg=True, \n",
        "                          scatter_kws={\"color\":\"black\"}, line_kws={\"color\":\"red\"}))\n",
        "      else:\n",
        "        print(sns.regplot(ax=ax1[index_r, 1], x=dep_var_r, y=\"Rain\", data=matches_df[matches_df[\"League\"] == league], \n",
        "                          fit_reg=True, \n",
        "                          scatter_kws={\"color\":\"black\"}, line_kws={\"color\":\"red\"}))\n",
        "      index_r += 1\n",
        "\n",
        "    # humidity\n",
        "    index_h = 0\n",
        "    for dep_var_h in [\"PassesAtt\", \"Carries\", \"Sh\", \"Tkl\", \"Press\", \"Possession Home\", \"Possession Away\"]:\n",
        "      if dep_var_h != \"Possession Home\" and dep_var_h != \"Possession Away\":\n",
        "        print(sns.regplot(ax=ax1[index_h, 2], x=dep_var_h, y=\"Humidity\", data=stats_df[stats_df[\"League\"] == league], \n",
        "                          fit_reg=True, \n",
        "                          scatter_kws={\"color\":\"black\"}, line_kws={\"color\":\"red\"}))\n",
        "      else:\n",
        "        print(sns.regplot(ax=ax1[index_h, 2], x=dep_var_h, y=\"Humidity\", data=matches_df[matches_df[\"League\"] == league], \n",
        "                          fit_reg=True, \n",
        "                          scatter_kws={\"color\":\"black\"}, line_kws={\"color\":\"red\"}))\n",
        "      index_h += 1\n",
        "    \n",
        "  elif var_type == \"performance\":\n",
        "    fig2, ax2 = plt.subplots(rows, cols, figsize=size)\n",
        "\n",
        "    # temperature\n",
        "    index_t = 0\n",
        "    for dep_var_t in [\"PassesCmp%\", \"DribblesSucc%\", \"TklW\", \"Press%\"]:\n",
        "      print(sns.regplot(ax=ax2[index_t, 0], x=dep_var_t, y=\"Temperature\", data=stats_df[stats_df[\"League\"] == league], \n",
        "                        fit_reg=True, \n",
        "                        scatter_kws={\"color\":\"black\"}, line_kws={\"color\":\"red\"}))\n",
        "      index_t += 1\n",
        "\n",
        "    # rain\n",
        "    index_r = 0\n",
        "    for dep_var_r in [\"PassesCmp%\", \"DribblesSucc%\", \"TklW\", \"Press%\"]:\n",
        "      print(sns.regplot(ax=ax2[index_r, 1], x=dep_var_r, y=\"Rain\", data=stats_df[stats_df[\"League\"] == league], \n",
        "                        fit_reg=True, \n",
        "                        scatter_kws={\"color\":\"black\"}, line_kws={\"color\":\"red\"}))\n",
        "      index_r += 1\n",
        "\n",
        "    # humidity\n",
        "    index_h = 0\n",
        "    for dep_var_h in [\"PassesCmp%\", \"DribblesSucc%\", \"TklW\", \"Press%\"]:\n",
        "      print(sns.regplot(ax=ax2[index_h, 2], x=dep_var_h, y=\"Humidity\", data=stats_df[stats_df[\"League\"] == league], \n",
        "                        fit_reg=True, \n",
        "                        scatter_kws={\"color\":\"black\"}, line_kws={\"color\":\"red\"}))\n",
        "      index_h += 1\n",
        "\n",
        "  else:\n",
        "    return \"Variable type unknown!\""
      ],
      "execution_count": null,
      "outputs": []
    },
    {
      "cell_type": "code",
      "metadata": {
        "id": "Je5u7Db2-Yt4"
      },
      "source": [
        "def hist_plots(stats_df, matches_df, var_type, league, rows, size=(15, 15)):\n",
        "  \"\"\"\n",
        "    Plots the histograms.\n",
        "\n",
        "            Parameters:\n",
        "                    stats_df (data frame)   : Statistics data frame on which the histogram is performed\n",
        "                    matches_df (data frame) : Matches data frame on which the histogram is performed\n",
        "                    var_type (str)          : Type of variable for the histogram\n",
        "                    league (str)            : Name and season of the league for the histogramm\n",
        "                    rows (int)              : Number of rows for the histogram grid\n",
        "                    size (int)              : Size of the histogram plot (default (15, 15))\n",
        "\n",
        "            Returns:\n",
        "                    None\n",
        "  \"\"\"\n",
        "\n",
        "  if var_type == \"tactic\":\n",
        "    fig1, ax1 = plt.subplots(rows, figsize=size)\n",
        "    index = 0\n",
        "    for dep_var in [\"PassesAtt\", \"Carries\", \"Sh\", \"Tkl\", \"Press\", \"Possession Home\", \"Possession Away\"]:\n",
        "      if dep_var != \"Possession Home\" and dep_var != \"Possession Away\":\n",
        "        print(sns.histplot(ax=ax1[index], x=dep_var, data=stats_df[stats_df[\"League\"] == league]))\n",
        "      else:\n",
        "        print(sns.histplot(ax=ax1[index], x=dep_var, data=matches_df[matches_df[\"League\"] == league]))\n",
        "      index += 1\n",
        "  elif var_type == \"performance\":\n",
        "    fig2, ax2 = plt.subplots(rows, figsize=size)\n",
        "    index = 0\n",
        "    for dep_var in [\"PassesCmp%\", \"DribblesSucc%\", \"TklW\", \"Press%\"]:\n",
        "      print(sns.histplot(ax=ax2[index], x=dep_var, data=stats_df[stats_df[\"League\"] == league]))\n",
        "      index += 1\n",
        "  else:\n",
        "    return \"Variable type unknown!\""
      ],
      "execution_count": null,
      "outputs": []
    },
    {
      "cell_type": "code",
      "metadata": {
        "id": "k5RVsHOVwTBa"
      },
      "source": [
        "def ols_w_summary(df, indep_vars, dep_var, dictionary, league, stat_type):\n",
        "  \"\"\"\n",
        "    Does regression and saves some values from that model in a dictionary.\n",
        "\n",
        "            Parameters:\n",
        "                    df (data frame)    : Data frame on which the regression is performed\n",
        "                    indep_vars (list)  : List of the independent variables for the regression\n",
        "                    dep_var (list)     : List of the dependent variable for the regression\n",
        "                    dictionary (dict)  : Dictionary with preset keys of the regression model values that should be saved\n",
        "                    league (str)       : Name and season of the league for the regression\n",
        "                    stat_type (str)    : Type of the statictical test for the regression assumptions\n",
        "\n",
        "            Returns:\n",
        "                    dictionary (dict): Dictionary containing the resulting values of the regression\n",
        "  \"\"\"\n",
        "\n",
        "  X = sm.add_constant(df[indep_vars])\n",
        "  y = df[dep_var]\n",
        "  model = sm.OLS(y, X, missing=\"drop\")\n",
        "  results = model.fit()\n",
        "\n",
        "  if stat_type == \"durbin_watson\": \n",
        "    from statsmodels.stats.stattools import durbin_watson\n",
        "    print(league)\n",
        "    print(indep_vars)\n",
        "    print(dep_var)\n",
        "    print(durbin_watson(results.resid))\n",
        "    print(\"---\")\n",
        "\n",
        "  elif stat_type == \"breusch_pagan\":\n",
        "    bp_names = ['Lagrange multiplier statistic', 'p-value', 'f-value', 'f p-value']\n",
        "    bp_test = sms.het_breuschpagan(results.resid, results.model.exog)\n",
        "    bp = lzip(bp_names, bp_test)\n",
        "    if bp[1][1] < 0.05:\n",
        "      print(league)\n",
        "      print(indep_vars)\n",
        "      print(dep_var)\n",
        "      print(bp)\n",
        "      print(\"---\")\n",
        "  \n",
        "  elif stat_type == \"breusch_pagan_plot\":\n",
        "    bp_names = ['Lagrange multiplier statistic', 'p-value', 'f-value', 'f p-value']\n",
        "    bp_test = sms.het_breuschpagan(results.resid, results.model.exog)\n",
        "    bp = lzip(bp_names, bp_test)\n",
        "    if bp[1][1] < 0.05:\n",
        "      print(league)\n",
        "      print(indep_vars)\n",
        "      print(dep_var)\n",
        "      print(bp)\n",
        "      plt.scatter(results.fittedvalues, results.resid)\n",
        "      plt.xlabel(\"Fitted Residuals\")\n",
        "      plt.ylabel(\"Residuals\")\n",
        "      plt.rcParams['figure.dpi'] = 60\n",
        "      plt.show()\n",
        "\n",
        "\n",
        "  elif stat_type == \"jarque_bera\":\n",
        "    jb_name = ['Jarque-Bera', 'Chi^2 two-tail prob.', 'Skew', 'Kurtosis']\n",
        "    jb_test = sms.jarque_bera(results.resid)\n",
        "    jb = lzip(jb_name, jb_test)\n",
        "    if jb[1][1] < 0.01:\n",
        "      print(league)\n",
        "      print(indep_vars)\n",
        "      print(dep_var)\n",
        "      print(jb)\n",
        "      print(\"---\")\n",
        "  \n",
        "  elif stat_type == \"jarque_bera_distplot\":\n",
        "    jb_name = ['Jarque-Bera', 'Chi^2 two-tail prob.', 'Skew', 'Kurtosis']\n",
        "    jb_test = sms.jarque_bera(results.resid)\n",
        "    jb = lzip(jb_name, jb_test)\n",
        "    if jb[1][1] < 0.01:\n",
        "      print(league)\n",
        "      print(indep_vars)\n",
        "      print(dep_var)\n",
        "      print(jb)\n",
        "      sns.distplot(results.resid, fit=norm);\n",
        "      plt.xlabel('Residuals')\n",
        "      plt.rcParams['figure.dpi'] = 60\n",
        "      plt.show()\n",
        "\n",
        "  elif stat_type == \"jarque_bera_probplot\":\n",
        "    from scipy import stats\n",
        "    jb_name = ['Jarque-Bera', 'Chi^2 two-tail prob.', 'Skew', 'Kurtosis']\n",
        "    jb_test = sms.jarque_bera(results.resid)\n",
        "    jb = lzip(jb_name, jb_test)\n",
        "    if jb[1][1] < 0.01:\n",
        "      print(league)\n",
        "      print(indep_vars)\n",
        "      print(dep_var)\n",
        "      print(jb)\n",
        "      stats.probplot(results.resid, plot=plt)\n",
        "      plt.rcParams['figure.dpi'] = 60\n",
        "      plt.show()\n",
        "\n",
        "  elif stat_type != None:\n",
        "    print(\"Statistics type unknown!\")\n",
        "\n",
        "  dictionary[\"dep_var\"].append(dep_var)\n",
        "  dictionary[\"rsquared\"].append(round(results.rsquared,3))\n",
        "  dictionary[\"rsquared_adj\"].append(round(results.rsquared_adj,3))\n",
        "  dictionary[\"nobs\"].append(results.nobs)\n",
        "  l_pval = []\n",
        "  for pval in results.pvalues:\n",
        "    l_pval.append(round(pval,4))\n",
        "  dictionary[\"pvalues\"].append(l_pval)\n",
        "  l_bse = []\n",
        "  for bse in results.bse:\n",
        "    l_bse.append(round(bse,3))\n",
        "  dictionary[\"bse\"].append(l_bse)\n",
        "  l_par = []\n",
        "  for par in results.params:\n",
        "    l_par.append(round(par,3))\n",
        "  dictionary[\"params\"].append(l_par)\n",
        "\n",
        "  return dictionary"
      ],
      "execution_count": null,
      "outputs": []
    },
    {
      "cell_type": "code",
      "metadata": {
        "id": "NeYbvkIuLlpR"
      },
      "source": [
        "def make_regression(df_stats, df_matches, in_vars, de_var_stats, de_var_matches, league, stat_type=None):\n",
        "  \"\"\"\n",
        "    Calls ols_w_summary for each dependent variable and returns values from that model in a dictionary.\n",
        "\n",
        "            Parameters:\n",
        "                    df_stats (data frame)    : Stats data frame on which the regression is performed\n",
        "                    df_matches (data frame)  : Matches data frame on which the regression is performed\n",
        "                    in_vars (list)           : List of the independent variables for the regression\n",
        "                    de_var_stats (list)      : List of the dependent stats variables for the regression\n",
        "                    de_var_matches (list)    : List of the dependent matches variables for the regression\n",
        "                    league (str)             : Name and season of the league for the regression\n",
        "                    stat_type (str)          : Type of the statictical test for the regression assumptions (default None)\n",
        "\n",
        "            Returns:\n",
        "                    regr_results_dict (dict): Dictionary containing the resulting values of all regression models\n",
        "  \"\"\"\n",
        "\n",
        "  regr_results_dict = {\"dep_var\":[], \"rsquared\":[], \"rsquared_adj\":[], \"nobs\":[], \"pvalues\":[], \"bse\":[], \"params\":[]}\n",
        "\n",
        "  for var in de_var_stats:\n",
        "    ols_w_summary(df_stats, in_vars, [var], regr_results_dict, league, stat_type)\n",
        "  for var in de_var_matches:\n",
        "    ols_w_summary(df_matches, in_vars, [var], regr_results_dict, league, stat_type)\n",
        "  \n",
        "  return regr_results_dict"
      ],
      "execution_count": null,
      "outputs": []
    },
    {
      "cell_type": "code",
      "metadata": {
        "id": "g9EsSdHvKgun"
      },
      "source": [
        "def dict_to_latex(regr_values_dict, league, in_vars):\n",
        "  \"\"\"\n",
        "    Creates a latex table of the dictionary and its values.\n",
        "\n",
        "            Parameters:\n",
        "                    regr_values_dict (dict)   : Dictionary containing the values from the regression models\n",
        "                    league (str)              : Name and season of the league for the results\n",
        "                    in_vars (list)            : List of the independent variables for the results\n",
        "                    \n",
        "            Returns:\n",
        "                    df_latex (str) : Data frame in latex form\n",
        "  \"\"\"\n",
        "\n",
        "  for i in range(len(regr_values_dict[\"params\"])):\n",
        "    for j in range(len(in_vars)+1):\n",
        "      if regr_values_dict[\"pvalues\"][i][j] < 0.001:\n",
        "         regr_values_dict[\"params\"][i][j] = str(regr_values_dict[\"params\"][i][j]) + \"***\" + \" (\" + str(regr_values_dict[\"bse\"][i][j]) + \")\"\n",
        "      elif regr_values_dict[\"pvalues\"][i][j] < 0.01:\n",
        "           regr_values_dict[\"params\"][i][j] = str(regr_values_dict[\"params\"][i][j]) + \"**\" + \" (\" + str(regr_values_dict[\"bse\"][i][j]) + \")\"\n",
        "      elif regr_values_dict[\"pvalues\"][i][j] < 0.05:\n",
        "           regr_values_dict[\"params\"][i][j] = str(regr_values_dict[\"params\"][i][j]) + \"*\" + \" (\" + str(regr_values_dict[\"bse\"][i][j]) + \")\"\n",
        "      else:\n",
        "        regr_values_dict[\"params\"][i][j] = str(regr_values_dict[\"params\"][i][j]) + \" (\" + str(regr_values_dict[\"bse\"][i][j]) + \")\"\n",
        "\n",
        "\n",
        "  df = pd.DataFrame(regr_values_dict)\n",
        "\n",
        "  df.drop([\"pvalues\"], axis=1, inplace=True)\n",
        "  df.drop([\"bse\"], axis=1, inplace=True)\n",
        "  df[\"params\"] = [tuple(i) for i in df[\"params\"]]\n",
        "  df[\"dep_var\"] = [tuple(i) for i in df[\"dep_var\"]]\n",
        "  df[\"nobs\"] = [int(i) for i in df[\"nobs\"]]\n",
        "  df[\"League\"] = league\n",
        "\n",
        "  df = df.set_index(\"dep_var\")\n",
        "  df_latex = df.to_latex()\n",
        "  return df"
      ],
      "execution_count": null,
      "outputs": []
    },
    {
      "cell_type": "code",
      "metadata": {
        "id": "UNC2vrgsxR8p"
      },
      "source": [
        "# scatterplot and probability plot of BL 18/19 \"PassesAtt\" regression residuals before aggregation and transformation of the variable\n",
        "\n",
        "from scipy import stats\n",
        "\n",
        "X_before = sm.add_constant(mean_df[mean_df[\"League\"] == \"PD 18-19\"][[\"Temperature\", \"Rain\", \"Humidity\"]])\n",
        "y_passesAtt_before = e**(mean_df[mean_df[\"League\"] == \"PD 18-19\"][\"PassesAtt\"])\n",
        "model_passesAtt_before = sm.OLS(y_passesAtt_before, X_before, missing=\"drop\")\n",
        "results_passesAtt_before = model_passesAtt_before.fit()\n",
        "predictions_passesAtt_before = results_passesAtt_before.predict(X_before)\n",
        "\n",
        "stats.probplot(results_passesAtt_before.resid, plot=plt);\n",
        "plt.xlabel('Theoretische Quantile')\n",
        "plt.ylabel('Geordnete Werte')\n",
        "plt.title(\"Probability Plot vorher\")\n",
        "plt.rcParams['figure.dpi'] = 360\n",
        "plt.style.use(\"seaborn-whitegrid\")\n",
        "plt.tight_layout()\n",
        "plt.savefig(\"plot_prob_passesAtt_before.png\")\n",
        "\n",
        "#plt.scatter(results_passesAtt_before.fittedvalues, results_passesAtt_before.resid)\n",
        "#plt.xlabel(\"Gefitteten Werte\")\n",
        "#plt.ylabel(\"Residuen\")\n",
        "#plt.title(\"Scatter Plot der Residuen vorher\")\n",
        "#plt.rcParams['figure.dpi'] = 360\n",
        "#plt.style.use(\"seaborn-whitegrid\")\n",
        "#plt.tight_layout()\n",
        "#plt.savefig(\"plot_resid_scatter_passesAtt_before.png\")"
      ],
      "execution_count": null,
      "outputs": []
    },
    {
      "cell_type": "code",
      "metadata": {
        "id": "H9rSkgJTyPDH"
      },
      "source": [
        "# scatterplot and probability plot of BL 18/19 \"PassesAtt\" regression residuals after aggregation and transformation of the variable\n",
        "\n",
        "X_after = sm.add_constant(mean_df[mean_df[\"League\"] == \"PD 18-19\"][[\"Temperature\", \"Rain\", \"Humidity\"]])\n",
        "y_passesAtt_after = mean_df[mean_df[\"League\"] == \"PD 18-19\"][\"PassesAtt\"]\n",
        "model_passesAtt_after = sm.OLS(y_passesAtt_after, X_after, missing=\"drop\")\n",
        "results_passesAtt_after = model_passesAtt_after.fit()\n",
        "predictions_passesAtt_after = results_passesAtt_after.predict(X_after)\n",
        "\n",
        "stats.probplot(results_passesAtt_after.resid, plot=plt);\n",
        "plt.xlabel('Theoretische Quantile')\n",
        "plt.ylabel('Geordnete Werte')\n",
        "plt.title(\"Probability Plot nachher\")\n",
        "plt.rcParams['figure.dpi'] = 360\n",
        "plt.style.use(\"seaborn-whitegrid\")\n",
        "plt.tight_layout()\n",
        "plt.savefig(\"plot_prob_passesAtt_after.png\")\n",
        "\n",
        "#plt.scatter(results_passesAtt_after.fittedvalues, results_passesAtt_after.resid)\n",
        "#plt.xlabel(\"Gefitteten Werte\")\n",
        "#plt.ylabel(\"Residuen\")\n",
        "#plt.title(\"Scatter Plot der Residuen nachher\")\n",
        "#plt.rcParams['figure.dpi'] = 360\n",
        "#plt.style.use(\"seaborn-whitegrid\")\n",
        "#plt.tight_layout()\n",
        "#plt.savefig(\"plot_resid_scatter_passesAtt_after.png\")"
      ],
      "execution_count": null,
      "outputs": []
    },
    {
      "cell_type": "markdown",
      "metadata": {
        "id": "J9go97NcTbua"
      },
      "source": [
        "### erstes Regressionsmodell"
      ]
    },
    {
      "cell_type": "code",
      "metadata": {
        "id": "7gQiGpGVTnSi"
      },
      "source": [
        "# data set for every league and season\n",
        "\n",
        "bl_17_18_regr_stats_first = stats_regr[stats_regr[\"League\"] == \"BL 17-18\"]\n",
        "bl_17_18_regr_matches_first = matches[matches[\"League\"] == \"BL 17-18\"]\n",
        "\n",
        "bl_18_19_regr_stats_first = stats_regr[stats_regr[\"League\"] == \"BL 18-19\"]\n",
        "bl_18_19_regr_matches_first = matches[matches[\"League\"] == \"BL 18-19\"]\n",
        "\n",
        "pd_17_18_regr_stats_first = stats_regr[stats_regr[\"League\"] == \"PD 17-18\"]\n",
        "pd_17_18_regr_matches_first = matches[matches[\"League\"] == \"PD 17-18\"]\n",
        "\n",
        "pd_18_19_regr_stats_first = stats_regr[stats_regr[\"League\"] == \"PD 18-19\"]\n",
        "pd_18_19_regr_matches_first = matches[matches[\"League\"] == \"PD 18-19\"]"
      ],
      "execution_count": null,
      "outputs": []
    },
    {
      "cell_type": "code",
      "metadata": {
        "id": "tKcc_D02T1bM"
      },
      "source": [
        "# perform regression\n",
        "\n",
        "# choose the statictical test type for the regression, options are: None, \"durbin_watson\", \"breusch_pagan\", \"breusch_pagan_plot\",\n",
        "#                                                                   \"jarque_bera\", \"jarque_bera_distplot\", \"jarque_bera_probplot\"\n",
        "\n",
        "stat_type = None\n",
        "\n",
        "bl_17_18_regr_values_tactic_first = make_regression(bl_17_18_regr_stats_first, bl_17_18_regr_matches_first, in_vars_base, tactic_stats, tactic_matches, \"BL 17-18\", stat_type)\n",
        "bl_17_18_regr_values_performance_first = make_regression(bl_17_18_regr_stats_first, bl_17_18_regr_matches_first, in_vars_base, perf_stats, perf_matches, \"BL 17-18\", stat_type)\n",
        "\n",
        "bl_18_19_regr_values_tactic_first = make_regression(bl_18_19_regr_stats_first, bl_18_19_regr_matches_first, in_vars_base, tactic_stats, tactic_matches, \"BL 18-19\", stat_type)\n",
        "bl_18_19_regr_values_performance_first = make_regression(bl_18_19_regr_stats_first, bl_18_19_regr_matches_first, in_vars_base, perf_stats, perf_matches, \"BL 18-19\", stat_type)\n",
        "\n",
        "pd_17_18_regr_values_tactic_first = make_regression(pd_17_18_regr_stats_first, pd_17_18_regr_matches_first, in_vars_base, tactic_stats, tactic_matches, \"PD 17-18\", stat_type)\n",
        "pd_17_18_regr_values_performance_first = make_regression(pd_17_18_regr_stats_first, pd_17_18_regr_matches_first, in_vars_base, perf_stats, perf_matches, \"PD 17-18\", stat_type)\n",
        "\n",
        "pd_18_19_regr_values_tactic_first = make_regression(pd_18_19_regr_stats_first, pd_18_19_regr_matches_first, in_vars_base, tactic_stats, tactic_matches, \"PD 18-19\", stat_type)\n",
        "pd_18_19_regr_values_performance_first = make_regression(pd_18_19_regr_stats_first, pd_18_19_regr_matches_first, in_vars_base, perf_stats, perf_matches, \"PD 18-19\", stat_type)"
      ],
      "execution_count": null,
      "outputs": []
    },
    {
      "cell_type": "code",
      "metadata": {
        "id": "pMzQzMzjT1xx"
      },
      "source": [
        "# combine tactic dfs and print the result in latex form\n",
        "\n",
        "print(\"Taktik\")\n",
        "bl_17_18_regr_values_tactic_df_first = dict_to_latex(bl_17_18_regr_values_tactic_first, \"BL 17-18\", in_vars_base)\n",
        "bl_18_19_regr_values_tactic_df_first = dict_to_latex(bl_18_19_regr_values_tactic_first, \"BL 18-19\", in_vars_base)\n",
        "pd_17_18_regr_values_tactic_df_first = dict_to_latex(pd_17_18_regr_values_tactic_first, \"PD 17-18\", in_vars_base)\n",
        "pd_18_19_regr_values_tactic_df_first = dict_to_latex(pd_18_19_regr_values_tactic_first, \"PD 18-19\", in_vars_base)\n",
        "tactic_df_first = bl_17_18_regr_values_tactic_df_first.append([bl_18_19_regr_values_tactic_df_first, pd_17_18_regr_values_tactic_df_first, pd_18_19_regr_values_tactic_df_first])\n",
        "print(tactic_df_first.to_latex())"
      ],
      "execution_count": null,
      "outputs": []
    },
    {
      "cell_type": "code",
      "metadata": {
        "id": "LCABcSHDT2Hj"
      },
      "source": [
        "# combine performance dfs and print it in latex form\n",
        "\n",
        "print(\"Performance\")\n",
        "bl_17_18_regr_values_performance_df_first = dict_to_latex(bl_17_18_regr_values_performance_first, \"BL 17-18\", in_vars_base)\n",
        "bl_18_19_regr_values_performance_df_first = dict_to_latex(bl_18_19_regr_values_performance_first, \"BL 18-19\", in_vars_base)\n",
        "pd_17_18_regr_values_performance_df_first = dict_to_latex(pd_17_18_regr_values_performance_first, \"PD 17-18\", in_vars_base)\n",
        "pd_18_19_regr_values_performance_df_first = dict_to_latex(pd_18_19_regr_values_performance_first, \"PD 18-19\", in_vars_base)\n",
        "performance_df_first = bl_17_18_regr_values_performance_df_first.append([bl_18_19_regr_values_performance_df_first, pd_17_18_regr_values_performance_df_first, pd_18_19_regr_values_performance_df_first])\n",
        "print(performance_df_first.to_latex())"
      ],
      "execution_count": null,
      "outputs": []
    },
    {
      "cell_type": "markdown",
      "metadata": {
        "id": "aD3X3VoKwp6V"
      },
      "source": [
        "### Basis Regression"
      ]
    },
    {
      "cell_type": "markdown",
      "metadata": {
        "id": "QWeKEuDt__B0"
      },
      "source": [
        "#### Modell"
      ]
    },
    {
      "cell_type": "code",
      "metadata": {
        "id": "VWpS6O1cU6BL"
      },
      "source": [
        "# base data set for every league and season\n",
        "\n",
        "bl_17_18_regr_stats = mean_df[mean_df[\"League\"] == \"BL 17-18\"]\n",
        "bl_17_18_regr_matches = matches[matches[\"League\"] == \"BL 17-18\"]\n",
        "\n",
        "bl_18_19_regr_stats = mean_df[mean_df[\"League\"] == \"BL 18-19\"]\n",
        "bl_18_19_regr_matches = matches[matches[\"League\"] == \"BL 18-19\"]\n",
        "\n",
        "pd_17_18_regr_stats = mean_df[mean_df[\"League\"] == \"PD 17-18\"]\n",
        "pd_17_18_regr_matches = matches[matches[\"League\"] == \"PD 17-18\"]\n",
        "\n",
        "pd_18_19_regr_stats = mean_df[mean_df[\"League\"] == \"PD 18-19\"]\n",
        "pd_18_19_regr_matches = matches[matches[\"League\"] == \"PD 18-19\"]"
      ],
      "execution_count": null,
      "outputs": []
    },
    {
      "cell_type": "code",
      "metadata": {
        "id": "JFE25vbeNXbI"
      },
      "source": [
        "# perform regression\n",
        "\n",
        "# choose the statictical test type for the regression, options are: None, \"durbin_watson\", \"breusch_pagan\", \"breusch_pagan_plot\",\n",
        "#                                                                   \"jarque_bera\", \"jarque_bera_distplot\", \"jarque_bera_probplot\"\n",
        "\n",
        "stat_type = None\n",
        "\n",
        "bl_17_18_regr_values_tactic = make_regression(bl_17_18_regr_stats, bl_17_18_regr_matches, in_vars_base, tactic_stats, tactic_matches, \"BL 17-18\", stat_type)\n",
        "bl_17_18_regr_values_performance = make_regression(bl_17_18_regr_stats, bl_17_18_regr_matches, in_vars_base, perf_stats, perf_matches, \"BL 17-18\", stat_type)\n",
        "\n",
        "bl_18_19_regr_values_tactic = make_regression(bl_18_19_regr_stats, bl_18_19_regr_matches, in_vars_base, tactic_stats, tactic_matches, \"BL 18-19\", stat_type)\n",
        "bl_18_19_regr_values_performance = make_regression(bl_18_19_regr_stats, bl_18_19_regr_matches, in_vars_base, perf_stats, perf_matches, \"BL 18-19\", stat_type)\n",
        "\n",
        "pd_17_18_regr_values_tactic = make_regression(pd_17_18_regr_stats, pd_17_18_regr_matches, in_vars_base, tactic_stats, tactic_matches, \"PD 17-18\", stat_type)\n",
        "pd_17_18_regr_values_performance = make_regression(pd_17_18_regr_stats, pd_17_18_regr_matches, in_vars_base, perf_stats, perf_matches, \"PD 17-18\", stat_type)\n",
        "\n",
        "pd_18_19_regr_values_tactic = make_regression(pd_18_19_regr_stats, pd_18_19_regr_matches, in_vars_base, tactic_stats, tactic_matches, \"PD 18-19\", stat_type)\n",
        "pd_18_19_regr_values_performance = make_regression(pd_18_19_regr_stats, pd_18_19_regr_matches, in_vars_base, perf_stats, perf_matches, \"PD 18-19\", stat_type)"
      ],
      "execution_count": null,
      "outputs": []
    },
    {
      "cell_type": "code",
      "metadata": {
        "id": "MxtytEVo44uS"
      },
      "source": [
        "# combine tactic dfs and print it in latex form\n",
        "\n",
        "print(\"Taktik\")\n",
        "bl_17_18_regr_values_tactic_df = dict_to_latex(bl_17_18_regr_values_tactic, \"BL 17-18\", in_vars_base)\n",
        "bl_18_19_regr_values_tactic_df = dict_to_latex(bl_18_19_regr_values_tactic, \"BL 18-19\", in_vars_base)\n",
        "pd_17_18_regr_values_tactic_df = dict_to_latex(pd_17_18_regr_values_tactic, \"PD 17-18\", in_vars_base)\n",
        "pd_18_19_regr_values_tactic_df = dict_to_latex(pd_18_19_regr_values_tactic, \"PD 18-19\", in_vars_base)\n",
        "tactic_df = bl_17_18_regr_values_tactic_df.append([bl_18_19_regr_values_tactic_df, pd_17_18_regr_values_tactic_df, pd_18_19_regr_values_tactic_df])\n",
        "print(tactic_df.to_latex())"
      ],
      "execution_count": null,
      "outputs": []
    },
    {
      "cell_type": "code",
      "metadata": {
        "id": "j28G2IT7fQbu"
      },
      "source": [
        "# combine performance dfs and print it in latex form\n",
        "\n",
        "print(\"Performance\")\n",
        "bl_17_18_regr_values_performance_df = dict_to_latex(bl_17_18_regr_values_performance, \"BL 17-18\", in_vars_base)\n",
        "bl_18_19_regr_values_performance_df = dict_to_latex(bl_18_19_regr_values_performance, \"BL 18-19\", in_vars_base)\n",
        "pd_17_18_regr_values_performance_df = dict_to_latex(pd_17_18_regr_values_performance, \"PD 17-18\", in_vars_base)\n",
        "pd_18_19_regr_values_performance_df = dict_to_latex(pd_18_19_regr_values_performance, \"PD 18-19\", in_vars_base)\n",
        "performance_df = bl_17_18_regr_values_performance_df.append([bl_18_19_regr_values_performance_df, pd_17_18_regr_values_performance_df, pd_18_19_regr_values_performance_df])\n",
        "print(performance_df.to_latex())"
      ],
      "execution_count": null,
      "outputs": []
    },
    {
      "cell_type": "markdown",
      "metadata": {
        "id": "rstjE2EdHy21"
      },
      "source": [
        "#### Lineare Beziehung zwischen den unabhängigen und abhängigen Variablen"
      ]
    },
    {
      "cell_type": "code",
      "metadata": {
        "id": "_5TZnC7ViSKW"
      },
      "source": [
        "# regplot of relationship between BL 18/19 \"PassesAtt\" and temperature before aggregation and transformation of the variables\n",
        "\n",
        "sns.regplot(x=\"PassesAtt\", y=\"Temperature\", data=stats_regr[stats_regr[\"League\"] == \"PD 18-19\"], \n",
        "                        fit_reg=True, \n",
        "                        scatter_kws={\"color\":\"black\"}, line_kws={\"color\":\"red\"})\n",
        "\n",
        "plt.xlabel(\"PassesAtt in der PD 18/19\")\n",
        "plt.ylabel(\"Temperatur in °C\")\n",
        "plt.title(\"Zusammenhang von PassesAtt und der Temperatur vorher\")\n",
        "plt.rcParams['figure.dpi'] = 360\n",
        "plt.tight_layout()\n",
        "plt.savefig(\"plot_scatter_passesAtt_before.png\")"
      ],
      "execution_count": null,
      "outputs": []
    },
    {
      "cell_type": "code",
      "metadata": {
        "id": "47kwEC-Rkphf"
      },
      "source": [
        "# regplot of relationship between BL 18/19 \"PassesAtt\" and temperature after aggregation and transformation of the variables\n",
        "\n",
        "sns.regplot(x=\"PassesAtt\", y=\"Temperature\", data=mean_df[mean_df[\"League\"] == \"PD 18-19\"], \n",
        "                        fit_reg=True, \n",
        "                        scatter_kws={\"color\":\"black\"}, line_kws={\"color\":\"red\"})\n",
        "\n",
        "plt.xlabel(\"PassesAtt in der PD 18/19\")\n",
        "plt.ylabel(\"Temperatur in °C\")\n",
        "plt.title(\"Zusammenhang von PassesAtt und der Temperatur nachher\")\n",
        "plt.rcParams['figure.dpi'] = 360\n",
        "plt.tight_layout()\n",
        "plt.savefig(\"plot_scatter_passesAtt_after.png\")"
      ],
      "execution_count": null,
      "outputs": []
    },
    {
      "cell_type": "code",
      "metadata": {
        "id": "SEU6yEhBjKhl"
      },
      "source": [
        "# distribution of BL 18/19 \"PassesAtt\" before aggregation and transformation of the variables\n",
        "\n",
        "sns.histplot(x=\"PassesAtt\", data=stats_regr[stats_regr[\"League\"] == \"PD 18-19\"])\n",
        "\n",
        "plt.xlabel(\"PassesAtt in der PD 18/19\")\n",
        "plt.ylabel(\"Anzahl\")\n",
        "plt.title(\"Verteilung von PassesAtt vorher\")\n",
        "plt.rcParams['figure.dpi'] = 360\n",
        "plt.tight_layout()\n",
        "sns.set(style=\"whitegrid\")\n",
        "sns.despine(left=True)\n",
        "plt.savefig(\"plot_hist_passesAtt_before.png\")"
      ],
      "execution_count": null,
      "outputs": []
    },
    {
      "cell_type": "code",
      "metadata": {
        "id": "3DNZ1A74lCNz"
      },
      "source": [
        "# distribution of BL 18/19 \"PassesAtt\" after aggregation and transformation of the variables\n",
        "\n",
        "sns.histplot(x=\"PassesAtt\", data=mean_df[mean_df[\"League\"] == \"PD 18-19\"])\n",
        "\n",
        "plt.xlabel(\"PassesAtt in der PD 18/19\")\n",
        "plt.ylabel(\"Anzahl\")\n",
        "plt.title(\"Verteilung von PassesAtt nachher\")\n",
        "plt.rcParams['figure.dpi'] = 360\n",
        "plt.tight_layout()\n",
        "sns.set(style=\"whitegrid\")\n",
        "sns.despine(left=True)\n",
        "plt.savefig(\"plot_hist_passesAtt_after.png\")"
      ],
      "execution_count": null,
      "outputs": []
    },
    {
      "cell_type": "markdown",
      "metadata": {
        "id": "OvHM5HUZ2kEx"
      },
      "source": [
        "##### BL 17/18"
      ]
    },
    {
      "cell_type": "code",
      "metadata": {
        "id": "4P-55x6ngp-d"
      },
      "source": [
        "scatter_plots(mean_df, matches, \"tactic\", \"BL 17-18\", 7, 3)"
      ],
      "execution_count": null,
      "outputs": []
    },
    {
      "cell_type": "code",
      "metadata": {
        "id": "sPYFhW4gVewe"
      },
      "source": [
        "scatter_plots(mean_df, matches, \"performance\", \"BL 17-18\", 4, 3, (15, 15))"
      ],
      "execution_count": null,
      "outputs": []
    },
    {
      "cell_type": "code",
      "metadata": {
        "id": "VgG3sdJqWraT"
      },
      "source": [
        "hist_plots(mean_df, matches, \"tactic\", \"BL 17-18\", 7, (20, 28))"
      ],
      "execution_count": null,
      "outputs": []
    },
    {
      "cell_type": "code",
      "metadata": {
        "id": "M_KpH5IKYZWf"
      },
      "source": [
        "hist_plots(mean_df, matches, \"performance\", \"BL 17-18\", 4, (20, 28))"
      ],
      "execution_count": null,
      "outputs": []
    },
    {
      "cell_type": "markdown",
      "metadata": {
        "id": "rvR3PmhH2dvt"
      },
      "source": [
        "##### BL 18/19"
      ]
    },
    {
      "cell_type": "code",
      "metadata": {
        "id": "Q_1UHNmvg0s3"
      },
      "source": [
        "scatter_plots(mean_df, matches, \"tactic\", \"BL 18-19\", 7, 3)"
      ],
      "execution_count": null,
      "outputs": []
    },
    {
      "cell_type": "code",
      "metadata": {
        "id": "a_wprtccg1Pm"
      },
      "source": [
        "scatter_plots(mean_df, matches, \"performance\", \"BL 18-19\", 4, 3, (15, 15))"
      ],
      "execution_count": null,
      "outputs": []
    },
    {
      "cell_type": "code",
      "metadata": {
        "id": "JdZ-NZVIZODI"
      },
      "source": [
        "hist_plots(mean_df, matches, \"tactic\", \"BL 18-19\", 7, (20, 28))"
      ],
      "execution_count": null,
      "outputs": []
    },
    {
      "cell_type": "code",
      "metadata": {
        "id": "NKrig63aZWAG"
      },
      "source": [
        "hist_plots(mean_df, matches, \"performance\", \"BL 18-19\", 4, (20, 28))"
      ],
      "execution_count": null,
      "outputs": []
    },
    {
      "cell_type": "markdown",
      "metadata": {
        "id": "WY-WrwTw2bRK"
      },
      "source": [
        "##### PD 17/18"
      ]
    },
    {
      "cell_type": "code",
      "metadata": {
        "id": "SjtF_pZxg88N"
      },
      "source": [
        "scatter_plots(mean_df, matches, \"tactic\", \"PD 17-18\", 7, 3)"
      ],
      "execution_count": null,
      "outputs": []
    },
    {
      "cell_type": "code",
      "metadata": {
        "id": "2_Nb8Z5RhAwq"
      },
      "source": [
        "scatter_plots(mean_df, matches, \"performance\", \"PD 17-18\", 4, 3, (15, 15))"
      ],
      "execution_count": null,
      "outputs": []
    },
    {
      "cell_type": "code",
      "metadata": {
        "id": "YsQMZKjZZiAW"
      },
      "source": [
        "hist_plots(mean_df, matches, \"tactic\", \"PD 17-18\", 7, (20, 28))"
      ],
      "execution_count": null,
      "outputs": []
    },
    {
      "cell_type": "code",
      "metadata": {
        "id": "9JRDu051Zia9"
      },
      "source": [
        "hist_plots(mean_df, matches, \"performance\", \"PD 17-18\", 4, (15, 15))"
      ],
      "execution_count": null,
      "outputs": []
    },
    {
      "cell_type": "markdown",
      "metadata": {
        "id": "KotsswgU2WSm"
      },
      "source": [
        "##### PD 18/19"
      ]
    },
    {
      "cell_type": "code",
      "metadata": {
        "id": "AN4dDrfnhDgo"
      },
      "source": [
        "scatter_plots(mean_df, matches, \"tactic\", \"PD 18-19\", 7, 3)"
      ],
      "execution_count": null,
      "outputs": []
    },
    {
      "cell_type": "code",
      "metadata": {
        "id": "KFsgtInnhED0"
      },
      "source": [
        "scatter_plots(mean_df, matches, \"performance\", \"PD 18-19\", 4, 3, (15, 15))"
      ],
      "execution_count": null,
      "outputs": []
    },
    {
      "cell_type": "code",
      "metadata": {
        "id": "HOHO9WfdZt4E"
      },
      "source": [
        "hist_plots(mean_df, matches, \"tactic\", \"PD 18-19\", 7, (20, 28))"
      ],
      "execution_count": null,
      "outputs": []
    },
    {
      "cell_type": "code",
      "metadata": {
        "id": "wKs1urw8Zuam"
      },
      "source": [
        "hist_plots(mean_df, matches, \"performance\", \"PD 18-19\", 4, (15, 15))"
      ],
      "execution_count": null,
      "outputs": []
    },
    {
      "cell_type": "markdown",
      "metadata": {
        "id": "pAEGFlkx9Jcp"
      },
      "source": [
        "#### Korrelation der unabhängigen Variablen"
      ]
    },
    {
      "cell_type": "code",
      "metadata": {
        "id": "yspVs7Fj9dVL"
      },
      "source": [
        "# VIF values for the independent variables of the base regression model\n",
        "\n",
        "from statsmodels.stats.outliers_influence import variance_inflation_factor\n",
        "\n",
        "for league in [\"BL 17-18\", \"BL 18-19\", \"PD 17-18\", \"PD 18-19\"]:\n",
        "  X = mean_df[mean_df[\"League\"] == league][[\"Temperature\", \"Rain\", \"Humidity\"]]\n",
        "\n",
        "  # VIF data frame \n",
        "  vif_data = pd.DataFrame() \n",
        "  vif_data[\"feature\"] = X.columns \n",
        "    \n",
        "  # calculating VIF for each feature \n",
        "  vif_data[\"VIF\"] = [variance_inflation_factor(X.values, i) \n",
        "                            for i in range(len(X.columns))] \n",
        "    \n",
        "  print(league)\n",
        "  print(vif_data.to_latex())\n",
        "  print((mean_df[mean_df[\"League\"] == league][[\"Temperature\", \"Rain\", \"Humidity\"]]).corr())\n",
        "  print(\"---\")"
      ],
      "execution_count": null,
      "outputs": []
    },
    {
      "cell_type": "markdown",
      "metadata": {
        "id": "l4neiJ9QwQhZ"
      },
      "source": [
        "### Regression mit Top Sechs"
      ]
    },
    {
      "cell_type": "markdown",
      "metadata": {
        "id": "AWmDFuun_22P"
      },
      "source": [
        "#### Modell"
      ]
    },
    {
      "cell_type": "code",
      "metadata": {
        "id": "2qiViUkP1AA4"
      },
      "source": [
        "bl_17_18_top6 = [\"Bayern Munich\", \"Schalke 04\", \"Hoffenheim\", \"Dortmund\", \"Leverkusen\", \"RB Leipzig\"]\n",
        "bl_18_19_top6 = [\"Bayern Munich\", \"Dortmund\", \"RB Leipzig\", \"Leverkusen\", \"M'Gladbach\", \"Wolfsburg\"]\n",
        "pd_17_18_top6 = [\"Barcelona\", \"Atlético Madrid\", \"Real Madrid\", \"Valencia\", \"Villarreal\", \"Betis\"]\n",
        "pd_18_19_top6 = [\"Barcelona\", \"Atlético Madrid\", \"Real Madrid\", \"Valencia\", \"Getafe\", \"Sevilla\"]"
      ],
      "execution_count": null,
      "outputs": []
    },
    {
      "cell_type": "code",
      "metadata": {
        "id": "xlC3XSj90LjQ"
      },
      "source": [
        "mean_df_BL_17_18 = mean_df[mean_df[\"League\"] == \"BL 17-18\"]\n",
        "mean_df_BL_18_19 = mean_df[mean_df[\"League\"] == \"BL 18-19\"]\n",
        "mean_df_PD_17_18 = mean_df[mean_df[\"League\"] == \"PD 17-18\"]\n",
        "mean_df_PD_18_19 = mean_df[mean_df[\"League\"] == \"PD 18-19\"]"
      ],
      "execution_count": null,
      "outputs": []
    },
    {
      "cell_type": "code",
      "metadata": {
        "id": "5pyqtb9V1veO"
      },
      "source": [
        "# drop every teams except the top6 from the dataframe\n",
        "\n",
        "mean_df_BL_17_18[\"drop\"] = [squad in bl_17_18_top6 for squad in mean_df_BL_17_18[\"Squad\"]]\n",
        "mean_df_BL_17_18.drop(mean_df_BL_17_18[mean_df_BL_17_18[\"drop\"] == False].index, inplace=True)\n",
        "\n",
        "mean_df_BL_18_19[\"drop\"] = [squad in bl_18_19_top6 for squad in mean_df_BL_18_19[\"Squad\"]]\n",
        "mean_df_BL_18_19.drop(mean_df_BL_18_19[mean_df_BL_18_19[\"drop\"] == False].index, inplace=True)\n",
        "\n",
        "mean_df_PD_17_18[\"drop\"] = [squad in pd_17_18_top6 for squad in mean_df_PD_17_18[\"Squad\"]]\n",
        "mean_df_PD_17_18.drop(mean_df_PD_17_18[mean_df_PD_17_18[\"drop\"] == False].index, inplace=True)\n",
        "\n",
        "mean_df_PD_18_19[\"drop\"] = [squad in pd_18_19_top6 for squad in mean_df_PD_18_19[\"Squad\"]]\n",
        "mean_df_PD_18_19.drop(mean_df_PD_18_19[mean_df_PD_18_19[\"drop\"] == False].index, inplace=True)"
      ],
      "execution_count": null,
      "outputs": []
    },
    {
      "cell_type": "code",
      "metadata": {
        "id": "V-_HFv9FJoq4"
      },
      "source": [
        "mean_df_top6 = mean_df_BL_17_18.append([mean_df_BL_18_19, mean_df_PD_17_18, mean_df_PD_18_19])"
      ],
      "execution_count": null,
      "outputs": []
    },
    {
      "cell_type": "code",
      "metadata": {
        "id": "ZiMRpUGSwxul"
      },
      "source": [
        "matches_BL_17_18 = matches[matches[\"League\"] == \"BL 17-18\"]\n",
        "matches_BL_18_19 = matches[matches[\"League\"] == \"BL 18-19\"]\n",
        "matches_PD_17_18 = matches[matches[\"League\"] == \"PD 17-18\"]\n",
        "matches_PD_18_19 = matches[matches[\"League\"] == \"PD 18-19\"]"
      ],
      "execution_count": null,
      "outputs": []
    },
    {
      "cell_type": "code",
      "metadata": {
        "id": "LmCYDWucxOn1"
      },
      "source": [
        "# drop every match where no top6 teams takes part \n",
        "\n",
        "matches_BL_17_18[\"drop home\"] = [squad in bl_17_18_top6 for squad in matches_BL_17_18[\"Home\"]]\n",
        "matches_BL_17_18[\"drop away\"] = [squad in bl_17_18_top6 for squad in matches_BL_17_18[\"Away\"]]\n",
        "matches_BL_17_18.drop(matches_BL_17_18[(matches_BL_17_18[\"drop home\"] == False) & (matches_BL_17_18[\"drop away\"] == False)].index, inplace=True)\n",
        "\n",
        "matches_BL_18_19[\"drop home\"] = [squad in bl_18_19_top6 for squad in matches_BL_18_19[\"Home\"]]\n",
        "matches_BL_18_19[\"drop away\"] = [squad in bl_18_19_top6 for squad in matches_BL_18_19[\"Away\"]]\n",
        "matches_BL_18_19.drop(matches_BL_18_19[(matches_BL_18_19[\"drop home\"] == False) & (matches_BL_18_19[\"drop away\"] == False)].index, inplace=True)\n",
        "\n",
        "matches_PD_17_18[\"drop home\"] = [squad in pd_17_18_top6 for squad in matches_PD_17_18[\"Home\"]]\n",
        "matches_PD_17_18[\"drop away\"] = [squad in pd_17_18_top6 for squad in matches_PD_17_18[\"Away\"]]\n",
        "matches_PD_17_18.drop(matches_PD_17_18[(matches_PD_17_18[\"drop home\"] == False) & (matches_PD_17_18[\"drop away\"] == False)].index, inplace=True)\n",
        "\n",
        "matches_PD_18_19[\"drop home\"] = [squad in pd_18_19_top6 for squad in matches_PD_18_19[\"Home\"]]\n",
        "matches_PD_18_19[\"drop away\"] = [squad in pd_18_19_top6 for squad in matches_PD_18_19[\"Away\"]]\n",
        "matches_PD_18_19.drop(matches_PD_18_19[(matches_PD_18_19[\"drop home\"] == False) & (matches_PD_18_19[\"drop away\"] == False)].index, inplace=True)"
      ],
      "execution_count": null,
      "outputs": []
    },
    {
      "cell_type": "code",
      "metadata": {
        "id": "CHAb56PdPVYC"
      },
      "source": [
        "matches_top6 = matches_BL_17_18.append([matches_BL_18_19, matches_PD_17_18, matches_PD_18_19])"
      ],
      "execution_count": null,
      "outputs": []
    },
    {
      "cell_type": "code",
      "metadata": {
        "id": "7yMbNcgRcBtc"
      },
      "source": [
        "# perform regression with top6 teams\n",
        "\n",
        "# choose the statictical test type for the regression, options are: None, \"durbin_watson\", \"breusch_pagan\", \"breusch_pagan_plot\",\n",
        "#                                                                   \"jarque_bera\", \"jarque_bera_distplot\", \"jarque_bera_probplot\"\n",
        "\n",
        "stat_type = None\n",
        "\n",
        "bl_17_18_regr_top6_values_tactic = make_regression(mean_df_BL_17_18, matches_BL_17_18, in_vars_base, tactic_stats, tactic_matches, \"BL 17-18\", stat_type)\n",
        "bl_17_18_regr_top6_values_performance = make_regression(mean_df_BL_17_18, matches_BL_17_18, in_vars_base, perf_stats, perf_matches, \"BL 17-18\", stat_type)\n",
        "\n",
        "bl_18_19_regr_top6_values_tactic = make_regression(mean_df_BL_18_19, matches_BL_18_19, in_vars_base, tactic_stats, tactic_matches, \"BL 18-19\", stat_type)\n",
        "bl_18_19_regr_top6_values_performance = make_regression(mean_df_BL_18_19, matches_BL_18_19, in_vars_base, perf_stats, perf_matches, \"BL 18-19\", stat_type)\n",
        "\n",
        "pd_17_18_regr_top6_values_tactic = make_regression(mean_df_PD_17_18, matches_PD_17_18, in_vars_base, tactic_stats, tactic_matches, \"PD 17-18\", stat_type)\n",
        "pd_17_18_regr_top6_values_performance = make_regression(mean_df_PD_17_18, matches_PD_17_18, in_vars_base, perf_stats, perf_matches, \"PD 17-18\", stat_type)\n",
        "\n",
        "pd_18_19_regr_top6_values_tactic = make_regression(mean_df_PD_18_19, matches_PD_18_19, in_vars_base, tactic_stats, tactic_matches, \"PD 18-19\", stat_type)\n",
        "pd_18_19_regr_top6_values_performance = make_regression(mean_df_PD_18_19, matches_PD_18_19, in_vars_base, perf_stats, perf_matches, \"PD 18-19\", stat_type)"
      ],
      "execution_count": null,
      "outputs": []
    },
    {
      "cell_type": "code",
      "metadata": {
        "id": "0f3wp7xocCCh"
      },
      "source": [
        "# print top6 regression for those in latex form\n",
        "\n",
        "print(\"Top Sechs\")\n",
        "bl_17_18_regr_values_top6_tactic_df = dict_to_latex(bl_17_18_regr_top6_values_tactic, \"BL 17-18\", in_vars_base)\n",
        "bl_17_18_regr_values_top6_performance_df = dict_to_latex(bl_17_18_regr_top6_values_performance, \"BL 17-18\", in_vars_base)\n",
        "\n",
        "bl_18_19_regr_values_top6_tactic_df = dict_to_latex(bl_18_19_regr_top6_values_tactic, \"BL 18-19\", in_vars_base)\n",
        "bl_18_19_regr_values_top6_performance_df = dict_to_latex(bl_18_19_regr_top6_values_performance, \"BL 18-19\", in_vars_base)\n",
        "\n",
        "pd_17_18_regr_values_top6_tactic_df = dict_to_latex(pd_17_18_regr_top6_values_tactic, \"PD 17-18\", in_vars_base)\n",
        "pd_17_18_regr_values_top6_performance_df = dict_to_latex(pd_17_18_regr_top6_values_performance, \"PD 17-18\", in_vars_base)\n",
        "\n",
        "pd_18_19_regr_values_top6_tactic_df = dict_to_latex(pd_18_19_regr_top6_values_tactic, \"PD 18-19\", in_vars_base)\n",
        "pd_18_19_regr_values_top6_performance_df = dict_to_latex(pd_18_19_regr_top6_values_performance, \"PD 18-19\", in_vars_base)\n",
        "\n",
        "top6_tactic_df = bl_17_18_regr_values_top6_tactic_df.append([bl_18_19_regr_values_top6_tactic_df, \n",
        "                                                               pd_17_18_regr_values_top6_tactic_df,\n",
        "                                                               pd_18_19_regr_values_top6_tactic_df])\n",
        "\n",
        "top6_performance_df = bl_17_18_regr_values_top6_performance_df.append([bl_18_19_regr_values_top6_performance_df,\n",
        "                                                                         pd_17_18_regr_values_top6_performance_df,\n",
        "                                                                         pd_18_19_regr_values_top6_performance_df])\n",
        "\n",
        "\n",
        "print(\"Taktik\")\n",
        "print(top6_tactic_df.to_latex())\n",
        "\n",
        "print(\"Performance\")\n",
        "print(top6_performance_df.to_latex())"
      ],
      "execution_count": null,
      "outputs": []
    },
    {
      "cell_type": "markdown",
      "metadata": {
        "id": "Vk4qS0z6Ab6B"
      },
      "source": [
        "#### Lineare Beziehung zwischen den unabhängigen und abhängigen Variablen"
      ]
    },
    {
      "cell_type": "markdown",
      "metadata": {
        "id": "Ou2qBVOT_9EL"
      },
      "source": [
        "##### BL 17/18"
      ]
    },
    {
      "cell_type": "code",
      "metadata": {
        "id": "MQeS_tsq__rD"
      },
      "source": [
        "scatter_plots(mean_df_top6, matches_top6, \"tactic\", \"BL 17-18\", 7, 3)"
      ],
      "execution_count": null,
      "outputs": []
    },
    {
      "cell_type": "code",
      "metadata": {
        "id": "XlTGNf5oAAH7"
      },
      "source": [
        "scatter_plots(mean_df_top6, matches_top6, \"performance\", \"BL 17-18\", 4, 3, (15, 15))"
      ],
      "execution_count": null,
      "outputs": []
    },
    {
      "cell_type": "code",
      "metadata": {
        "id": "rFVRPndSAAeS"
      },
      "source": [
        "hist_plots(mean_df_top6, matches_top6, \"tactic\", \"BL 17-18\", 7, (20, 28))"
      ],
      "execution_count": null,
      "outputs": []
    },
    {
      "cell_type": "code",
      "metadata": {
        "id": "LRR18Zp4AA0-"
      },
      "source": [
        "hist_plots(mean_df_top6, matches_top6, \"performance\", \"BL 17-18\", 4, (20, 28))"
      ],
      "execution_count": null,
      "outputs": []
    },
    {
      "cell_type": "markdown",
      "metadata": {
        "id": "4QL3SLfc_9pO"
      },
      "source": [
        "##### BL 18/19"
      ]
    },
    {
      "cell_type": "code",
      "metadata": {
        "id": "wzeNbBxYABvW"
      },
      "source": [
        "scatter_plots(mean_df_top6, matches_top6, \"tactic\", \"BL 18-19\", 7, 3)"
      ],
      "execution_count": null,
      "outputs": []
    },
    {
      "cell_type": "code",
      "metadata": {
        "id": "AvyiLUHzACHM"
      },
      "source": [
        "scatter_plots(mean_df_top6, matches_top6, \"performance\", \"BL 18-19\", 4, 3, (15, 15))"
      ],
      "execution_count": null,
      "outputs": []
    },
    {
      "cell_type": "code",
      "metadata": {
        "id": "A7yff7TDACb7"
      },
      "source": [
        "hist_plots(mean_df_top6, matches_top6, \"tactic\", \"BL 18-19\", 7, (20, 28))"
      ],
      "execution_count": null,
      "outputs": []
    },
    {
      "cell_type": "code",
      "metadata": {
        "id": "sdKs3nBIACxO"
      },
      "source": [
        "hist_plots(mean_df_top6, matches_top6, \"performance\", \"BL 18-19\", 4, (20, 28))"
      ],
      "execution_count": null,
      "outputs": []
    },
    {
      "cell_type": "markdown",
      "metadata": {
        "id": "DT2nPn4b_-Ic"
      },
      "source": [
        "##### PD 17/18"
      ]
    },
    {
      "cell_type": "code",
      "metadata": {
        "id": "gTcx2ItIAFVA"
      },
      "source": [
        "scatter_plots(mean_df_top6, matches_top6, \"tactic\", \"PD 17-18\", 7, 3)"
      ],
      "execution_count": null,
      "outputs": []
    },
    {
      "cell_type": "code",
      "metadata": {
        "id": "GNdVRJ0IAFse"
      },
      "source": [
        "scatter_plots(mean_df_top6, matches_top6, \"performance\", \"PD 17-18\", 4, 3, (15, 15))"
      ],
      "execution_count": null,
      "outputs": []
    },
    {
      "cell_type": "code",
      "metadata": {
        "id": "39dor0KaAGFZ"
      },
      "source": [
        "hist_plots(mean_df_top6, matches_top6, \"tactic\", \"PD 17-18\", 7, (20, 28))"
      ],
      "execution_count": null,
      "outputs": []
    },
    {
      "cell_type": "code",
      "metadata": {
        "id": "G0ti7kEsAGgu"
      },
      "source": [
        "hist_plots(mean_df_top6, matches_top6, \"performance\", \"PD 17-18\", 4, (20, 28))"
      ],
      "execution_count": null,
      "outputs": []
    },
    {
      "cell_type": "markdown",
      "metadata": {
        "id": "sW6e3LjR_-jC"
      },
      "source": [
        "##### PD 18/19"
      ]
    },
    {
      "cell_type": "code",
      "metadata": {
        "id": "OUClua0NAD2o"
      },
      "source": [
        "scatter_plots(mean_df_top6, matches_top6, \"tactic\", \"PD 18-19\", 7, 3)"
      ],
      "execution_count": null,
      "outputs": []
    },
    {
      "cell_type": "code",
      "metadata": {
        "id": "TcTfqtplAEOk"
      },
      "source": [
        "scatter_plots(mean_df_top6, matches_top6, \"performance\", \"PD 18-19\", 4, 3, (15, 15))"
      ],
      "execution_count": null,
      "outputs": []
    },
    {
      "cell_type": "code",
      "metadata": {
        "id": "_cGaT3n1AElS"
      },
      "source": [
        "hist_plots(mean_df_top6, matches_top6, \"tactic\", \"PD 18-19\", 7, (20, 28))"
      ],
      "execution_count": null,
      "outputs": []
    },
    {
      "cell_type": "code",
      "metadata": {
        "id": "svSIu96vAeea"
      },
      "source": [
        "hist_plots(mean_df_top6, matches_top6, \"performance\", \"PD 18-19\", 4, (20, 28))"
      ],
      "execution_count": null,
      "outputs": []
    },
    {
      "cell_type": "markdown",
      "metadata": {
        "id": "-W6XLNfK_Rsh"
      },
      "source": [
        "#### Korrelation der unabhängigen Variablen"
      ]
    },
    {
      "cell_type": "code",
      "metadata": {
        "id": "4kbR3FVOw_8h"
      },
      "source": [
        "# VIF values for the independent variables of the top6 regression model\n",
        "\n",
        "from statsmodels.stats.outliers_influence import variance_inflation_factor\n",
        "\n",
        "for league in [\"BL 17-18\", \"BL 18-19\", \"PD 17-18\", \"PD 18-19\"]:\n",
        "  X = mean_df_top6[mean_df_top6[\"League\"] == league][[\"Temperature\", \"Rain\", \"Humidity\"]]\n",
        "\n",
        "  # VIF data frame \n",
        "  vif_data = pd.DataFrame() \n",
        "  vif_data[\"feature\"] = X.columns \n",
        "    \n",
        "  # calculating VIF for each feature \n",
        "  vif_data[\"VIF\"] = [variance_inflation_factor(X.values, i) \n",
        "                            for i in range(len(X.columns))] \n",
        "    \n",
        "  print(league)\n",
        "  print(vif_data.to_latex())\n",
        "  print((mean_df_top6[mean_df_top6[\"League\"] == league][[\"Temperature\", \"Rain\", \"Humidity\"]]).corr())\n",
        "  print(\"---\")"
      ],
      "execution_count": null,
      "outputs": []
    },
    {
      "cell_type": "markdown",
      "metadata": {
        "id": "IsPx1_fRq8Wm"
      },
      "source": [
        "### Regression nur mit Heimmannschaften"
      ]
    },
    {
      "cell_type": "markdown",
      "metadata": {
        "id": "iyLHFIQL_uyE"
      },
      "source": [
        "#### Modell"
      ]
    },
    {
      "cell_type": "code",
      "metadata": {
        "id": "-WMFwpwcrCOq"
      },
      "source": [
        "# home data set for every league and season\n",
        "\n",
        "bl_17_18_home_regr_stats = mean_df_home[mean_df_home[\"League\"] == \"BL 17-18\"]\n",
        "bl_17_18_home_regr_matches = matches[matches[\"League\"] == \"BL 17-18\"]\n",
        "\n",
        "bl_18_19_home_regr_stats = mean_df_home[mean_df_home[\"League\"] == \"BL 18-19\"]\n",
        "bl_18_19_home_regr_matches = matches[matches[\"League\"] == \"BL 18-19\"]\n",
        "\n",
        "pd_17_18_home_regr_stats = mean_df_home[mean_df_home[\"League\"] == \"PD 17-18\"]\n",
        "pd_17_18_home_regr_matches = matches[matches[\"League\"] == \"PD 17-18\"]\n",
        "\n",
        "pd_18_19_home_regr_stats = mean_df_home[mean_df_home[\"League\"] == \"PD 18-19\"]\n",
        "pd_18_19_home_regr_matches = matches[matches[\"League\"] == \"PD 18-19\"]"
      ],
      "execution_count": null,
      "outputs": []
    },
    {
      "cell_type": "code",
      "metadata": {
        "id": "YuGxF4nxq6GM"
      },
      "source": [
        "# perform regression with home teams \n",
        "\n",
        "# choose the statictical test type for the regression, options are: None, \"durbin_watson\", \"breusch_pagan\", \"breusch_pagan_plot\",\n",
        "#                                                                   \"jarque_bera\", \"jarque_bera_distplot\", \"jarque_bera_probplot\"\n",
        "\n",
        "stat_type = None\n",
        "\n",
        "bl_17_18_home_regr_values_tactic = make_regression(bl_17_18_home_regr_stats, bl_17_18_home_regr_matches, in_vars_base, tactic_stats, tactic_matches, \"BL 17-18\", stat_type)\n",
        "bl_17_18_home_regr_values_performance = make_regression(bl_17_18_home_regr_stats, bl_17_18_home_regr_matches, in_vars_base, perf_stats, perf_matches, \"BL 17-18\", stat_type)\n",
        "\n",
        "bl_18_19_home_regr_values_tactic = make_regression(bl_18_19_home_regr_stats, bl_18_19_home_regr_matches, in_vars_base, tactic_stats, tactic_matches, \"BL 18-19\", stat_type)\n",
        "bl_18_19_home_regr_values_performance = make_regression(bl_18_19_home_regr_stats, bl_18_19_home_regr_matches, in_vars_base, perf_stats, perf_matches, \"BL 18-19\", stat_type)\n",
        "\n",
        "pd_17_18_home_regr_values_tactic = make_regression(pd_17_18_home_regr_stats, pd_17_18_home_regr_matches, in_vars_base, tactic_stats, tactic_matches, \"PD 17-18\", stat_type)\n",
        "pd_17_18_home_regr_values_performance = make_regression(pd_17_18_home_regr_stats, pd_17_18_home_regr_matches, in_vars_base, perf_stats, perf_matches, \"PD 17-18\", stat_type)\n",
        "\n",
        "pd_18_19_home_regr_values_tactic = make_regression(pd_18_19_home_regr_stats, pd_18_19_home_regr_matches, in_vars_base, tactic_stats, tactic_matches, \"PD 18-19\", stat_type)\n",
        "pd_18_19_home_regr_values_performance = make_regression(pd_18_19_home_regr_stats, pd_18_19_home_regr_matches, in_vars_base, perf_stats, perf_matches, \"PD 18-19\", stat_type)"
      ],
      "execution_count": null,
      "outputs": []
    },
    {
      "cell_type": "code",
      "metadata": {
        "id": "mLhNQjGWrN1F"
      },
      "source": [
        "# combine tactic dfs and print it in latex form\n",
        "\n",
        "print(\"Taktik\")\n",
        "bl_17_18_home_regr_values_tactic_df = dict_to_latex(bl_17_18_home_regr_values_tactic, \"BL 17-18\", in_vars_base)#.swapaxes(\"index\", \"columns\")\n",
        "bl_18_19_home_regr_values_tactic_df = dict_to_latex(bl_18_19_home_regr_values_tactic, \"BL 18-19\", in_vars_base)#.swapaxes(\"index\", \"columns\")\n",
        "pd_17_18_home_regr_values_tactic_df = dict_to_latex(pd_17_18_home_regr_values_tactic, \"PD 17-18\", in_vars_base)#.swapaxes(\"index\", \"columns\")\n",
        "pd_18_19_home_regr_values_tactic_df = dict_to_latex(pd_18_19_home_regr_values_tactic, \"PD 18-19\", in_vars_base)#.swapaxes(\"index\", \"columns\")\n",
        "home_tactic_df = bl_17_18_home_regr_values_tactic_df.append([bl_18_19_home_regr_values_tactic_df, pd_17_18_home_regr_values_tactic_df, pd_18_19_home_regr_values_tactic_df])\n",
        "print(home_tactic_df.to_latex())"
      ],
      "execution_count": null,
      "outputs": []
    },
    {
      "cell_type": "code",
      "metadata": {
        "id": "bLatK6DjrOPY"
      },
      "source": [
        "# combine performance dfs and print it in latex form\n",
        "\n",
        "print(\"Performance\")\n",
        "bl_17_18_home_regr_values_performance_df = dict_to_latex(bl_17_18_home_regr_values_performance, \"BL 17-18\", in_vars_base)#.swapaxes(\"index\", \"columns\")\n",
        "bl_18_19_home_regr_values_performance_df = dict_to_latex(bl_18_19_home_regr_values_performance, \"BL 18-19\", in_vars_base)#.swapaxes(\"index\", \"columns\")\n",
        "pd_17_18_home_regr_values_performance_df = dict_to_latex(pd_17_18_home_regr_values_performance, \"PD 17-18\", in_vars_base)#.swapaxes(\"index\", \"columns\")\n",
        "pd_18_19_home_regr_values_performance_df = dict_to_latex(pd_18_19_home_regr_values_performance, \"PD 18-19\", in_vars_base)#.swapaxes(\"index\", \"columns\")\n",
        "home_performance_df = bl_17_18_home_regr_values_performance_df.append([bl_18_19_home_regr_values_performance_df, pd_17_18_home_regr_values_performance_df, pd_18_19_home_regr_values_performance_df])\n",
        "print(home_performance_df.to_latex())"
      ],
      "execution_count": null,
      "outputs": []
    },
    {
      "cell_type": "markdown",
      "metadata": {
        "id": "tD161sn7AskO"
      },
      "source": [
        "#### Lineare Beziehung zwischen den unabhängigen und abhängigen Variablen"
      ]
    },
    {
      "cell_type": "markdown",
      "metadata": {
        "id": "yDa08g1ECPEH"
      },
      "source": [
        "##### BL 17/18"
      ]
    },
    {
      "cell_type": "code",
      "metadata": {
        "id": "VoDh6JmpCPmQ"
      },
      "source": [
        "scatter_plots(mean_df_home, matches, \"tactic\", \"BL 17-18\", 7, 3)"
      ],
      "execution_count": null,
      "outputs": []
    },
    {
      "cell_type": "code",
      "metadata": {
        "id": "wGqz206gCP_0"
      },
      "source": [
        "scatter_plots(mean_df_home, matches, \"performance\", \"BL 17-18\", 4, 3, (15, 15))"
      ],
      "execution_count": null,
      "outputs": []
    },
    {
      "cell_type": "code",
      "metadata": {
        "id": "StpmVDhGCQZo"
      },
      "source": [
        "hist_plots(mean_df_home, matches, \"tactic\", \"BL 17-18\", 7, (20, 28))"
      ],
      "execution_count": null,
      "outputs": []
    },
    {
      "cell_type": "code",
      "metadata": {
        "id": "R5p9ksmTAurg"
      },
      "source": [
        "hist_plots(mean_df_home, matches, \"performance\", \"BL 17-18\", 4, (20, 28))"
      ],
      "execution_count": null,
      "outputs": []
    },
    {
      "cell_type": "markdown",
      "metadata": {
        "id": "DUFfZyWaCRTL"
      },
      "source": [
        "##### BL 18/19"
      ]
    },
    {
      "cell_type": "code",
      "metadata": {
        "id": "bROHPyRlCRwf"
      },
      "source": [
        "scatter_plots(mean_df_home, matches, \"tactic\", \"BL 18-19\", 7, 3)"
      ],
      "execution_count": null,
      "outputs": []
    },
    {
      "cell_type": "code",
      "metadata": {
        "id": "sVQVuimoCSFL"
      },
      "source": [
        "scatter_plots(mean_df_home, matches, \"performance\", \"BL 18-19\", 4, 3, (15, 15))"
      ],
      "execution_count": null,
      "outputs": []
    },
    {
      "cell_type": "code",
      "metadata": {
        "id": "2mGmJv2yCSaj"
      },
      "source": [
        "hist_plots(mean_df_home, matches, \"tactic\", \"BL 18-19\", 7, (20, 28))"
      ],
      "execution_count": null,
      "outputs": []
    },
    {
      "cell_type": "code",
      "metadata": {
        "id": "_dR891lwCSwY"
      },
      "source": [
        "hist_plots(mean_df_home, matches, \"performance\", \"BL 18-19\", 4, (20, 28))"
      ],
      "execution_count": null,
      "outputs": []
    },
    {
      "cell_type": "markdown",
      "metadata": {
        "id": "Z5jzVAQLCTMw"
      },
      "source": [
        "##### PD 17/18"
      ]
    },
    {
      "cell_type": "code",
      "metadata": {
        "id": "lL0Bm-qeCTpS"
      },
      "source": [
        "scatter_plots(mean_df_home, matches, \"tactic\", \"PD 17-18\", 7, 3)"
      ],
      "execution_count": null,
      "outputs": []
    },
    {
      "cell_type": "code",
      "metadata": {
        "id": "InwlfIaVCUFQ"
      },
      "source": [
        "scatter_plots(mean_df_home, matches, \"performance\", \"PD 17-18\", 4, 3, (15, 15))"
      ],
      "execution_count": null,
      "outputs": []
    },
    {
      "cell_type": "code",
      "metadata": {
        "id": "48bPGNWNCUfJ"
      },
      "source": [
        "hist_plots(mean_df_home, matches, \"tactic\", \"PD 17-18\", 7, (20, 28))"
      ],
      "execution_count": null,
      "outputs": []
    },
    {
      "cell_type": "code",
      "metadata": {
        "id": "lSNR4vMpCU2E"
      },
      "source": [
        "hist_plots(mean_df_home, matches, \"performance\", \"PD 17-18\", 4, (20, 28))"
      ],
      "execution_count": null,
      "outputs": []
    },
    {
      "cell_type": "markdown",
      "metadata": {
        "id": "HzL5YekGCVUr"
      },
      "source": [
        "##### PD 18/19"
      ]
    },
    {
      "cell_type": "code",
      "metadata": {
        "id": "BoYg7PvPCWuk"
      },
      "source": [
        "scatter_plots(mean_df_home, matches, \"tactic\", \"PD 18-19\", 7, 3)"
      ],
      "execution_count": null,
      "outputs": []
    },
    {
      "cell_type": "code",
      "metadata": {
        "id": "oARxdJfOCXBK"
      },
      "source": [
        "scatter_plots(mean_df_home, matches, \"performance\", \"PD 18-19\", 4, 3, (15, 15))"
      ],
      "execution_count": null,
      "outputs": []
    },
    {
      "cell_type": "code",
      "metadata": {
        "id": "L-h_esBTCXWL"
      },
      "source": [
        "hist_plots(mean_df_home, matches, \"tactic\", \"PD 18-19\", 7, (20, 28))"
      ],
      "execution_count": null,
      "outputs": []
    },
    {
      "cell_type": "code",
      "metadata": {
        "id": "XcVCr30yCXqk"
      },
      "source": [
        "hist_plots(mean_df_home, matches, \"performance\", \"PD 18-19\", 4, (20, 28))"
      ],
      "execution_count": null,
      "outputs": []
    },
    {
      "cell_type": "markdown",
      "metadata": {
        "id": "t3bOIm6l_go_"
      },
      "source": [
        "#### Korrelation der unabhängigen Variablen"
      ]
    },
    {
      "cell_type": "code",
      "metadata": {
        "id": "z1r3Imt6_fhO"
      },
      "source": [
        "# VIF values for the independent variables of the home team regression model\n",
        "\n",
        "from statsmodels.stats.outliers_influence import variance_inflation_factor\n",
        "\n",
        "for league in [\"BL 17-18\", \"BL 18-19\", \"PD 17-18\", \"PD 18-19\"]:\n",
        "  X = mean_df_home[mean_df_home[\"League\"] == league][[\"Temperature\", \"Rain\", \"Humidity\"]]\n",
        "\n",
        "  # VIF data frame \n",
        "  vif_data = pd.DataFrame() \n",
        "  vif_data[\"feature\"] = X.columns \n",
        "    \n",
        "  # calculating VIF for each feature \n",
        "  vif_data[\"VIF\"] = [variance_inflation_factor(X.values, i) \n",
        "                            for i in range(len(X.columns))] \n",
        "    \n",
        "  print(league)\n",
        "  print(vif_data.to_latex())\n",
        "  print((mean_df_home[mean_df_home[\"League\"] == league][[\"Temperature\", \"Rain\", \"Humidity\"]]).corr())\n",
        "  print(\"---\")"
      ],
      "execution_count": null,
      "outputs": []
    },
    {
      "cell_type": "markdown",
      "metadata": {
        "id": "obfX-uvmwZPr"
      },
      "source": [
        "# Statistiken"
      ]
    },
    {
      "cell_type": "code",
      "metadata": {
        "id": "2bkmlKMxIuoa"
      },
      "source": [
        "# create a data frame containing the kickoff times and the corresponding chosen interval\n",
        "\n",
        "time_dict = {\"Time\":[]}\n",
        "\n",
        "for i in np.unique(matches[\"Time\"]):\n",
        "  time_dict[\"Time\"].append(i)\n",
        "\n",
        "chosen_interval = [\"12:00-14:59\", \"12:00-14:59\", \"12:00-14:59\", \"12:00-14:59\", \"12:00-14:59\",\n",
        "                   \"15:00-17:59\", \"15:00-17:59\", \"18:00-20:59\", \"18:00-20:59\", \"18:00-20:59\",\n",
        "                   \"18:00-20:59\", \"18:00-20:59\", \"18:00-20:59\", \"18:00-20:59\", \"21:00-23:59\",\n",
        "                   \"21:00-23:59\", \"21:00-23:59\", \"21:00-23:59\", \"21:00-23:59\", \"21:00-23:59\",\n",
        "                   \"21:00-23:59\", \"21:00-23:59\", \"21:00-23:59\", \"21:00-23:59\", \"21:00-23:59\",\n",
        "                   \"21:00-23:59\"]\n",
        "\n",
        "time_dict[\"Chosen Interval\"] = chosen_interval\n",
        "\n",
        "time_interval_df = pd.DataFrame(time_dict)\n",
        "time_interval_df.set_index(\"Time\", inplace=True)\n",
        "print(time_interval_df.to_latex())"
      ],
      "execution_count": null,
      "outputs": []
    },
    {
      "cell_type": "code",
      "metadata": {
        "id": "4XDZGgEBaZcd"
      },
      "source": [
        "# statistics of Home/Away Score and Home Team/Away Team Points\n",
        "\n",
        "descr_matches_BL_17_18 = np.round(matches[matches[\"League\"] == \"BL 17-18\"].describe().loc[[\"mean\", \"std\", \"50%\", \"min\", \"max\"], [\"Home Score\", \"Away Score\", \"Home Team Points\", \"Away Team Points\"]], 2)\n",
        "descr_matches_BL_18_19 = np.round(matches[matches[\"League\"] == \"BL 18-19\"].describe().loc[[\"mean\", \"std\", \"50%\", \"min\", \"max\"], [\"Home Score\", \"Away Score\", \"Home Team Points\", \"Away Team Points\"]], 2)\n",
        "descr_matches_PD_17_18 = np.round(matches[matches[\"League\"] == \"PD 17-18\"].describe().loc[[\"mean\", \"std\", \"50%\", \"min\", \"max\"], [\"Home Score\", \"Away Score\", \"Home Team Points\", \"Away Team Points\"]], 2)\n",
        "descr_matches_PD_18_19 = np.round(matches[matches[\"League\"] == \"PD 18-19\"].describe().loc[[\"mean\", \"std\", \"50%\", \"min\", \"max\"], [\"Home Score\", \"Away Score\", \"Home Team Points\", \"Away Team Points\"]], 2)\n",
        "\n",
        "print(descr_matches_BL_17_18.swapaxes(\"index\", \"columns\").to_latex())\n",
        "print(descr_matches_BL_18_19.swapaxes(\"index\", \"columns\").to_latex())\n",
        "print(descr_matches_PD_17_18.swapaxes(\"index\", \"columns\").to_latex())\n",
        "print(descr_matches_PD_18_19.swapaxes(\"index\", \"columns\").to_latex())"
      ],
      "execution_count": null,
      "outputs": []
    },
    {
      "cell_type": "code",
      "metadata": {
        "id": "3eawMBtgLdwn"
      },
      "source": [
        "def create_descr(df_stats, df_matches, league, descr_type):\n",
        "  \"\"\"\n",
        "    Creates description data sets from every league and season of the tactic and performance variables.\n",
        "\n",
        "            Parameters:\n",
        "                    df_stats (data frame)   : Statistics data frame on which the description is performed\n",
        "                    df_matches (data frame) : Matches data frame on which the description is performed\n",
        "                    league (str)            : Name and season of the league for the description\n",
        "                    descr_type (str)        : States the type of variables to do the description on\n",
        "\n",
        "            Returns:\n",
        "                    None\n",
        "  \"\"\"\n",
        "\n",
        "  league_stats = df_stats[df_stats[\"League\"] == league]\n",
        "  league_matches = df_matches[df_matches[\"League\"] == league]\n",
        "\n",
        "  if descr_type == \"tactic\":\n",
        "    tactic_stats = league_stats.describe().loc[[\"mean\", \"std\", \"50%\", \"min\", \"max\"], [\"PassesAtt\", \"Carries\", \"Sh\", \"Tkl\", \"Press\"]]\n",
        "    tactic_matches = league_matches.describe().loc[[\"mean\", \"std\", \"50%\", \"min\", \"max\"], [\"Possession Home\", \"Possession Away\"]]\n",
        "    league_descr = pd.merge(tactic_stats, tactic_matches, left_index= True, right_index=True)\n",
        "  elif descr_type == \"performance\":\n",
        "    tactic_stats = league_stats.describe().loc[[\"mean\", \"std\", \"50%\", \"min\", \"max\"], [\"PassesCmp%\", \"DribblesSucc%\", \"TklW\", \"Press%\"]]\n",
        "    league_descr = tactic_stats \n",
        "  else:\n",
        "    print(\"Description Type Error for {}\".format(league))\n",
        "    return\n",
        "\n",
        "  print(\"{} {}:\".format(league, descr_type))\n",
        "  league_descr = league_descr.swapaxes(\"index\", \"columns\")\n",
        "  league_descr = league_descr.round(2)\n",
        "  league_descr[\"League\"] = league\n",
        "  print(league_descr.to_latex())\n",
        "  print(\"---\")"
      ],
      "execution_count": null,
      "outputs": []
    },
    {
      "cell_type": "code",
      "metadata": {
        "id": "wmAA321cjvzw"
      },
      "source": [
        "# create description tables for the tactic variables of the original version of the data set\n",
        "# if the error \"TypeError: 'module' object is not subscriptable\" occurs, the \"stats\" data set has to be read in again\n",
        "\n",
        "stats = pd.read_csv(source + \"stats.csv\")\n",
        "stats.drop(stats[(stats[\"Min\"].isna())&(stats[\"PlayerID\"] >= 14)].index, inplace=True)\n",
        "\n",
        "create_descr(stats, matches, \"BL 17-18\", \"tactic\")\n",
        "create_descr(stats, matches, \"BL 18-19\", \"tactic\")\n",
        "create_descr(stats, matches, \"PD 17-18\", \"tactic\")\n",
        "create_descr(stats, matches, \"PD 18-19\", \"tactic\")"
      ],
      "execution_count": null,
      "outputs": []
    },
    {
      "cell_type": "code",
      "metadata": {
        "id": "NCytcdnRSX3h"
      },
      "source": [
        "# create description tables for the performance variables of the original version of the data set\n",
        "\n",
        "create_descr(stats, matches, \"BL 17-18\", \"performance\")\n",
        "create_descr(stats, matches, \"BL 18-19\", \"performance\")\n",
        "create_descr(stats, matches, \"PD 17-18\", \"performance\")\n",
        "create_descr(stats, matches, \"PD 18-19\", \"performance\")"
      ],
      "execution_count": null,
      "outputs": []
    },
    {
      "cell_type": "code",
      "metadata": {
        "id": "dwRkSUikM1Rg"
      },
      "source": [
        "# create description tables for the tactic variables of the mean_df data set\n",
        "\n",
        "create_descr(mean_df, matches, \"BL 17-18\", \"tactic\")\n",
        "create_descr(mean_df, matches, \"BL 18-19\", \"tactic\")\n",
        "create_descr(mean_df, matches, \"PD 17-18\", \"tactic\")\n",
        "create_descr(mean_df, matches, \"PD 18-19\", \"tactic\")"
      ],
      "execution_count": null,
      "outputs": []
    },
    {
      "cell_type": "code",
      "metadata": {
        "id": "wZPstWqkkDSV"
      },
      "source": [
        "# create description tables for the performance variables of the mean_df data set\n",
        "\n",
        "create_descr(mean_df, matches, \"BL 17-18\", \"performance\")\n",
        "create_descr(mean_df, matches, \"BL 18-19\", \"performance\")\n",
        "create_descr(mean_df, matches, \"PD 17-18\", \"performance\")\n",
        "create_descr(mean_df, matches, \"PD 18-19\", \"performance\")"
      ],
      "execution_count": null,
      "outputs": []
    },
    {
      "cell_type": "code",
      "metadata": {
        "id": "dTVRRlvFs24f"
      },
      "source": [
        "# create description tables for the tactic variables of the top6 data set\n",
        "\n",
        "create_descr(mean_df_top6, matches_top6, \"BL 17-18\", \"tactic\")\n",
        "create_descr(mean_df_top6, matches_top6, \"BL 18-19\", \"tactic\")\n",
        "create_descr(mean_df_top6, matches_top6, \"PD 17-18\", \"tactic\")\n",
        "create_descr(mean_df_top6, matches_top6, \"PD 18-19\", \"tactic\")"
      ],
      "execution_count": null,
      "outputs": []
    },
    {
      "cell_type": "code",
      "metadata": {
        "id": "kAYb69Ais0PS"
      },
      "source": [
        "# create description tables for the performance variables of the top6 data set\n",
        "\n",
        "create_descr(mean_df_top6, matches_top6, \"BL 17-18\", \"performance\")\n",
        "create_descr(mean_df_top6, matches_top6, \"BL 18-19\", \"performance\")\n",
        "create_descr(mean_df_top6, matches_top6, \"PD 17-18\", \"performance\")\n",
        "create_descr(mean_df_top6, matches_top6, \"PD 18-19\", \"performance\")"
      ],
      "execution_count": null,
      "outputs": []
    },
    {
      "cell_type": "code",
      "metadata": {
        "id": "8Q7pUQBhsX2_"
      },
      "source": [
        "# create description tables for the tactic variables of the home data set\n",
        "\n",
        "create_descr(mean_df_home, matches, \"BL 17-18\", \"tactic\")\n",
        "create_descr(mean_df_home, matches, \"BL 18-19\", \"tactic\")\n",
        "create_descr(mean_df_home, matches, \"PD 17-18\", \"tactic\")\n",
        "create_descr(mean_df_home, matches, \"PD 18-19\", \"tactic\")"
      ],
      "execution_count": null,
      "outputs": []
    },
    {
      "cell_type": "code",
      "metadata": {
        "id": "9uBUyHZqsZqH"
      },
      "source": [
        "# create description tables for the performance variables of the home data set\n",
        "\n",
        "create_descr(mean_df_home, matches, \"BL 17-18\", \"performance\")\n",
        "create_descr(mean_df_home, matches, \"BL 18-19\", \"performance\")\n",
        "create_descr(mean_df_home, matches, \"PD 17-18\", \"performance\")\n",
        "create_descr(mean_df_home, matches, \"PD 18-19\", \"performance\")"
      ],
      "execution_count": null,
      "outputs": []
    },
    {
      "cell_type": "code",
      "metadata": {
        "id": "sbgz7_JVwevy"
      },
      "source": [
        "# number of players\n",
        "\n",
        "spieler_BL_17_18 = stats[stats[\"League\"] == \"BL 17-18\"][\"Player\"]\n",
        "spieler_BL_18_19 = stats[stats[\"League\"] == \"BL 18-19\"][\"Player\"]\n",
        "spieler_PD_17_18 = stats[stats[\"League\"] == \"PD 17-18\"][\"Player\"]\n",
        "spieler_PD_18_19 = stats[stats[\"League\"] == \"PD 18-19\"][\"Player\"]\n",
        "spieler_gesamt = len(np.unique(stats[\"Player\"]))\n",
        "\n",
        "print(\"Anzahl der Spieler in der BL Saison 17/18: {}\".format(len(np.unique(spieler_BL_17_18))))\n",
        "print(\"Anzahl der Spieler in der BL Saison 18/19: {}\".format(len(np.unique(spieler_BL_18_19))))\n",
        "print(\"Anzahl der Spieler in der PD Saison 17/18: {}\".format(len(np.unique(spieler_PD_17_18))))\n",
        "print(\"Anzahl der Spieler in der PD Saison 18/19: {}\".format(len(np.unique(spieler_PD_18_19))))\n",
        "print(\"Summe der Spieler gesamt: {}\".format(spieler_gesamt))\n",
        "\n",
        "leagues = [\"BL 17/18\", \"BL 18/19\", \"PD 17/18\", \"PD 18/19\", \"Total\"]\n",
        "player_numbers = [len(np.unique(spieler_BL_17_18)),\n",
        "                  len(np.unique(spieler_BL_18_19)),\n",
        "                  len(np.unique(spieler_PD_17_18)),\n",
        "                  len(np.unique(spieler_PD_18_19)),\n",
        "                  spieler_gesamt]\n",
        "\n",
        "player_no_dict = {\"League\":leagues, \"Number\":player_numbers}\n",
        "\n",
        "player_no_df = pd.DataFrame(player_no_dict)\n",
        "player_no_df.set_index(\"League\", inplace=True)\n",
        "print(player_no_df.to_latex())"
      ],
      "execution_count": null,
      "outputs": []
    },
    {
      "cell_type": "code",
      "metadata": {
        "id": "HFgy1NvtVk4-"
      },
      "source": [
        "def weather_plot(weather_data_df_original, weather_type, labels):\n",
        "  \"\"\"\n",
        "    Plots the weather statistics across the leagues and seasons.\n",
        "\n",
        "            Parameters:\n",
        "                    weather_data_df_original (data frame) : Original data frame with weather data that should be plotted\n",
        "                    weather_type (str)                    : Type of weather variable\n",
        "                    labels (list)                         : Contains the values for the labels of the bars in the bar plot\n",
        "\n",
        "            Returns:\n",
        "                    None\n",
        "  \"\"\"\n",
        "\n",
        "  weather_data_df = weather_data_df_original.copy()\n",
        "  names_for_plots = {\"Min\":\"Min.\", \"Max\":\"Max.\", \"Mean\":\"Arithm. Mw\"}\n",
        "  weather_data_df[\"Type\"] = [names_for_plots[w_type] if w_type in names_for_plots else w_type for w_type in weather_data_df[\"Type\"]]\n",
        "\n",
        "  leagues = [\"BL 17/18\", \"BL 18/19\", \"PD 17/18\", \"PD 18/19\"]\n",
        "\n",
        "  colors = {\"Min.\":\"#b3cde0\", \"Max.\":\"#005b96\", \"Arithm. Mw\":\"#6497b1\"}\n",
        "  c = weather_data_df[\"Type\"].apply(lambda x: colors[x])\n",
        "  \n",
        "  plot = weather_data_df.plot(kind=\"bar\", x=\"League\", y=\"{}\".format(weather_type), color=c)\n",
        "  plt.xticks((1, 4, 7, 10), leagues, rotation=\"horizontal\")\n",
        "  plt.xlabel(\"Liga\")\n",
        "  rects = plot.patches\n",
        "\n",
        "  for rect, label in zip(rects, labels):\n",
        "      height = rect.get_height()\n",
        "      if height < 0:\n",
        "        height *= -1\n",
        "      plot.text(rect.get_x() + rect.get_width() / 2, height + 1, label, ha='center', va='bottom')\n",
        "    \n",
        "  labels_colors = list(colors.keys())\n",
        "  handles = [plt.Rectangle((0,0),1,1, color=colors[label]) for label in labels_colors]\n",
        "  plt.legend(handles, labels_colors, loc=\"upper left\", bbox_to_anchor=(1.05, 1.0))\n",
        "\n",
        "  if weather_type == \"Temperature\":\n",
        "    plt.ylabel(\"Temperatur in °C\")\n",
        "  elif weather_type == \"Rain\":  \n",
        "    plt.ylabel(\"Regenmenge in mm\")\n",
        "  elif weather_type == \"Humidity\":\n",
        "    plt.ylabel(\"Luftfeuchtigkeit in %\")\n",
        "\n",
        "  sns.set(style=\"whitegrid\")\n",
        "  plt.rcParams['figure.dpi'] = 360\n",
        "\n",
        "  plt.tight_layout()\n",
        "  sns.despine(left=True)\n",
        "\n",
        "  plt.savefig(\"plot_{}.png\".format(weather_type))"
      ],
      "execution_count": null,
      "outputs": []
    },
    {
      "cell_type": "code",
      "metadata": {
        "id": "Gj3_1pFBaXrr"
      },
      "source": [
        "# weather statistics of every league and season\n",
        "\n",
        "max_temp_BL_17_18 = max(matches[matches[\"League\"] == \"BL 17-18\"][\"Temperature\"])\n",
        "max_temp_BL_18_19 = max(matches[matches[\"League\"] == \"BL 18-19\"][\"Temperature\"])\n",
        "max_temp_PD_17_18 = max(matches[matches[\"League\"] == \"PD 17-18\"][\"Temperature\"])\n",
        "max_temp_PD_18_19 = max(matches[matches[\"League\"] == \"PD 18-19\"][\"Temperature\"])\n",
        "\n",
        "min_temp_BL_17_18 = min(matches[matches[\"League\"] == \"BL 17-18\"][\"Temperature\"])\n",
        "min_temp_BL_18_19 = min(matches[matches[\"League\"] == \"BL 18-19\"][\"Temperature\"])\n",
        "min_temp_PD_17_18 = min(matches[matches[\"League\"] == \"PD 17-18\"][\"Temperature\"])\n",
        "min_temp_PD_18_19 = min(matches[matches[\"League\"] == \"PD 18-19\"][\"Temperature\"])\n",
        "\n",
        "mean_temp_BL_17_18 = matches[matches[\"League\"] == \"BL 17-18\"][\"Temperature\"].mean()\n",
        "mean_temp_BL_18_19 = matches[matches[\"League\"] == \"BL 18-19\"][\"Temperature\"].mean()\n",
        "mean_temp_PD_17_18 = matches[matches[\"League\"] == \"PD 17-18\"][\"Temperature\"].mean()\n",
        "mean_temp_PD_18_19 = matches[matches[\"League\"] == \"PD 18-19\"][\"Temperature\"].mean()\n",
        "\n",
        "\n",
        "max_rain_BL_17_18 = max(matches[matches[\"League\"] == \"BL 17-18\"][\"Rain\"])\n",
        "max_rain_BL_18_19 = max(matches[matches[\"League\"] == \"BL 18-19\"][\"Rain\"])\n",
        "max_rain_PD_17_18 = max(matches[matches[\"League\"] == \"PD 17-18\"][\"Rain\"])\n",
        "max_rain_PD_18_19 = max(matches[matches[\"League\"] == \"PD 18-19\"][\"Rain\"])\n",
        "\n",
        "min_rain_BL_17_18 = min(matches[matches[\"League\"] == \"BL 17-18\"][\"Rain\"])\n",
        "min_rain_BL_18_19 = min(matches[matches[\"League\"] == \"BL 18-19\"][\"Rain\"])\n",
        "min_rain_PD_17_18 = min(matches[matches[\"League\"] == \"PD 17-18\"][\"Rain\"])\n",
        "min_rain_PD_18_19 = min(matches[matches[\"League\"] == \"PD 18-19\"][\"Rain\"])\n",
        "\n",
        "mean_rain_BL_17_18 = matches[matches[\"League\"] == \"BL 17-18\"][\"Rain\"].mean()\n",
        "mean_rain_BL_18_19 = matches[matches[\"League\"] == \"BL 18-19\"][\"Rain\"].mean()\n",
        "mean_rain_PD_17_18 = matches[matches[\"League\"] == \"PD 17-18\"][\"Rain\"].mean()\n",
        "mean_rain_PD_18_19 = matches[matches[\"League\"] == \"PD 18-19\"][\"Rain\"].mean()\n",
        "\n",
        "\n",
        "max_humi_BL_17_18 = max(matches[matches[\"League\"] == \"BL 17-18\"][\"Humidity\"])\n",
        "max_humi_BL_18_19 = max(matches[matches[\"League\"] == \"BL 18-19\"][\"Humidity\"])\n",
        "max_humi_PD_17_18 = max(matches[matches[\"League\"] == \"PD 17-18\"][\"Humidity\"])\n",
        "max_humi_PD_18_19 = max(matches[matches[\"League\"] == \"PD 18-19\"][\"Humidity\"])\n",
        "\n",
        "min_humi_BL_17_18 = min(matches[matches[\"League\"] == \"BL 17-18\"][\"Humidity\"])\n",
        "min_humi_BL_18_19 = min(matches[matches[\"League\"] == \"BL 18-19\"][\"Humidity\"])\n",
        "min_humi_PD_17_18 = min(matches[matches[\"League\"] == \"PD 17-18\"][\"Humidity\"])\n",
        "min_humi_PD_18_19 = min(matches[matches[\"League\"] == \"PD 18-19\"][\"Humidity\"])\n",
        "\n",
        "mean_humi_BL_17_18 = matches[matches[\"League\"] == \"BL 17-18\"][\"Humidity\"].mean()\n",
        "mean_humi_BL_18_19 = matches[matches[\"League\"] == \"BL 18-19\"][\"Humidity\"].mean()\n",
        "mean_humi_PD_17_18 = matches[matches[\"League\"] == \"PD 17-18\"][\"Humidity\"].mean()\n",
        "mean_humi_PD_18_19 = matches[matches[\"League\"] == \"PD 18-19\"][\"Humidity\"].mean()\n",
        "\n",
        "\n",
        "# create data frame containing the weather values\n",
        "\n",
        "data = {\"League\":[\"BL 17-18\",\"BL 17-18\",\"BL 17-18\",\"BL 18-19\",\"BL 18-19\",\"BL 18-19\",\n",
        "                  \"PD 17-18\",\"PD 17-18\",\"PD 17-18\",\"PD 18-19\",\"PD 18-19\",\"PD 18-19\"],\n",
        "        \"Type\":[\"Min\",\"Max\",\"Mean\",\"Min\",\"Max\",\"Mean\",\"Min\",\"Max\",\"Mean\",\"Min\",\"Max\",\"Mean\"],\n",
        "        \"Temperature\":[min_temp_BL_17_18,max_temp_BL_17_18,mean_temp_BL_17_18,\n",
        "                       min_temp_BL_18_19,max_temp_BL_18_19,mean_temp_BL_18_19,\n",
        "                       min_temp_PD_17_18,max_temp_PD_17_18,mean_temp_PD_17_18,\n",
        "                       min_temp_PD_18_19,max_temp_PD_18_19,mean_temp_PD_18_19],\n",
        "        \"Rain\":[min_rain_BL_17_18,max_rain_BL_17_18,mean_rain_BL_17_18,\n",
        "                min_rain_BL_18_19,max_rain_BL_18_19,mean_rain_BL_18_19,\n",
        "                min_rain_PD_17_18,max_rain_PD_17_18,mean_rain_PD_17_18,\n",
        "                min_rain_PD_18_19,max_rain_PD_18_19,mean_rain_PD_18_19],\n",
        "        \"Humidity\":[min_humi_BL_17_18,max_humi_BL_17_18,mean_humi_BL_17_18,\n",
        "                    min_humi_BL_18_19,max_humi_BL_18_19,mean_humi_BL_18_19,\n",
        "                    min_humi_PD_17_18,max_humi_PD_17_18,mean_humi_PD_17_18,\n",
        "                    min_humi_PD_18_19,max_humi_PD_18_19,mean_humi_PD_18_19]}\n",
        "\n",
        "weather_data = pd.DataFrame(data)\n",
        "weather_data"
      ],
      "execution_count": null,
      "outputs": []
    },
    {
      "cell_type": "code",
      "metadata": {
        "id": "mSsPe4k_YyGd"
      },
      "source": [
        "# labels for the specific columns in the bar plot\n",
        "\n",
        "labels_temp = [min_temp_BL_17_18,max_temp_BL_17_18,round(mean_temp_BL_17_18, 2),\n",
        "               min_temp_BL_18_19,max_temp_BL_18_19,round(mean_temp_BL_18_19, 2),\n",
        "               min_temp_PD_17_18,max_temp_PD_17_18,round(mean_temp_PD_17_18, 2),\n",
        "               min_temp_PD_18_19,max_temp_PD_18_19,round(mean_temp_PD_18_19, 2)]\n",
        "\n",
        "labels_rain = [min_rain_BL_17_18,max_rain_BL_17_18,round(mean_rain_BL_17_18, 2),\n",
        "               min_rain_BL_18_19,max_rain_BL_18_19,round(mean_rain_BL_18_19, 2),\n",
        "               min_rain_PD_17_18,max_rain_PD_17_18,round(mean_rain_PD_17_18, 2),\n",
        "               min_rain_PD_18_19,max_rain_PD_18_19,round(mean_rain_PD_18_19, 2)]\n",
        "\n",
        "labels_humi = [min_humi_BL_17_18,max_humi_BL_17_18,round(mean_humi_BL_17_18, 2),\n",
        "               min_humi_BL_18_19,max_humi_BL_18_19,round(mean_humi_BL_18_19, 2),\n",
        "               min_humi_PD_17_18,max_humi_PD_17_18,round(mean_humi_PD_17_18, 2),\n",
        "               min_humi_PD_18_19,max_humi_PD_18_19,round(mean_humi_PD_18_19, 2)]\n",
        "\n",
        "\n",
        "# plot weather statistics\n",
        "\n",
        "weather_plot(weather_data, \"Temperature\", labels_temp)\n",
        "weather_plot(weather_data, \"Rain\", labels_rain)\n",
        "weather_plot(weather_data, \"Humidity\", labels_humi)"
      ],
      "execution_count": null,
      "outputs": []
    },
    {
      "cell_type": "code",
      "metadata": {
        "id": "9oFz0vYPYAW4"
      },
      "source": [
        "def weather_plot_winter(weather_data_df, weather_type, labels):\n",
        "  \"\"\"\n",
        "    Plots the weather values in the winter months for every league and season.\n",
        "\n",
        "            Parameters:\n",
        "                    weather_data_df (data frame) : Data frame with weather data that should be plotted\n",
        "                    weather_type (str)           : Type of weather variable\n",
        "                    labels (list)                : Contains the values for the labels of the bars in the bar plot\n",
        "\n",
        "            Returns:\n",
        "                    None\n",
        "  \"\"\"\n",
        "\n",
        "  leagues = [\"BL 17-18\", \"BL 18-19\", \"PD 17-18\", \"PD 18-19\"]\n",
        "\n",
        "  plot = weather_data_df.plot(kind=\"bar\", x=\"League\", y=\"{}\".format(weather_type))\n",
        "  plt.xticks((0, 1, 2, 3), leagues)\n",
        "  rects = plot.patches\n",
        "\n",
        "  for rect, label in zip(rects, labels):\n",
        "      height = rect.get_height()\n",
        "      if height < 0:\n",
        "        height *= -1\n",
        "      plot.text(rect.get_x() + rect.get_width() / 2, height + 1, label, ha='center', va='bottom')\n",
        "\n",
        "  if weather_type == \"Temperature\":\n",
        "    plt.ylabel(\"Temperature in °C\")\n",
        "  elif weather_type == \"Rain\":  \n",
        "    plt.ylabel(\"Amount of rain in mm\")\n",
        "  elif weather_type == \"Humidity\":\n",
        "    plt.ylabel(\"Humidity in %\")\n",
        "\n",
        "  plt.style.use(\"seaborn-whitegrid\")\n",
        "  plt.tight_layout()\n",
        "\n",
        "  plt.gca().spines['right'].set_color('none')\n",
        "  plt.gca().spines['top'].set_color('none')\n",
        "\n",
        "  plt.savefig(\"plot_{}_winter.png\".format(weather_type))"
      ],
      "execution_count": null,
      "outputs": []
    },
    {
      "cell_type": "code",
      "metadata": {
        "id": "4DCZXLoXaOsY"
      },
      "source": [
        "# convert the \"Date\" column values into datetime objects\n",
        "\n",
        "matches[\"Date\"] = pd.to_datetime(matches[\"Date\"])\n",
        "matches\n",
        "\n",
        "\n",
        "# data for mean temperatures in winter months\n",
        "\n",
        "mean_temp_winter_BL_17_18 = matches[(matches[\"League\"] == \"BL 17-18\") &\n",
        "                                    (matches[\"Date\"] >= datetime.datetime(2017, 12, 1)) &\n",
        "                                    (matches[\"Date\"] < datetime.datetime(2018, 3, 1))][\"Temperature\"].mean()\n",
        "mean_temp_winter_BL_18_19 = matches[(matches[\"League\"] == \"BL 18-19\") &\n",
        "                                    (matches[\"Date\"] >= datetime.datetime(2018, 12, 1)) &\n",
        "                                    (matches[\"Date\"] < datetime.datetime(2019, 3, 1))][\"Temperature\"].mean()\n",
        "mean_temp_winter_PD_17_18 = matches[(matches[\"League\"] == \"PD 17-18\") &\n",
        "                                    (matches[\"Date\"] >= datetime.datetime(2017, 12, 1)) &\n",
        "                                    (matches[\"Date\"] < datetime.datetime(2018, 3, 1))][\"Temperature\"].mean()\n",
        "mean_temp_winter_PD_18_19 = matches[(matches[\"League\"] == \"PD 18-19\") &\n",
        "                                    (matches[\"Date\"] >= datetime.datetime(2018, 12, 1)) &\n",
        "                                    (matches[\"Date\"] < datetime.datetime(2019, 3, 1))][\"Temperature\"].mean()\n",
        "\n",
        "\n",
        "# create a data frame containing the temperature mean of the winter months\n",
        "\n",
        "data_winter = {\"League\":[\"BL 17-18\",\"BL 18-19\",\"PD 17-18\",\"PD 18-19\"],\n",
        "               \"Type\":[\"Mean\",\"Mean\",\"Mean\",\"Mean\"],\n",
        "               \"Temperature\":[mean_temp_winter_BL_17_18,\n",
        "                              mean_temp_winter_BL_18_19,\n",
        "                              mean_temp_winter_PD_17_18,\n",
        "                              mean_temp_winter_PD_18_19]}\n",
        "\n",
        "winter_df = pd.DataFrame(data_winter)\n",
        "winter_df"
      ],
      "execution_count": null,
      "outputs": []
    },
    {
      "cell_type": "code",
      "metadata": {
        "id": "icdh-etVZR5w"
      },
      "source": [
        "# winter temperature labels for specific columns in the bar plot\n",
        "\n",
        "labels_temp_winter = [round(mean_temp_winter_BL_17_18, 2),\n",
        "                      round(mean_temp_winter_BL_18_19, 2),\n",
        "                      round(mean_temp_winter_PD_17_18, 2),\n",
        "                      round(mean_temp_winter_PD_18_19, 2)]\n",
        "\n",
        "\n",
        "# plot mean temperature for winter months across the seasons\n",
        "\n",
        "weather_plot_winter(winter_df, \"Temperature\", labels_temp_winter)"
      ],
      "execution_count": null,
      "outputs": []
    },
    {
      "cell_type": "code",
      "metadata": {
        "id": "t5KcQ7kiT5wJ"
      },
      "source": [
        "def weather_months_plot(weather_data_df, weather_type, labels):\n",
        "  \"\"\"\n",
        "    Plots the weather statistics across the leagues and seasons.\n",
        "\n",
        "            Parameters:\n",
        "                    weather_data_df (data frame) : Data frame with weather data that should be plotted\n",
        "                    weather_type (str)           : Type of weather variable\n",
        "                    labels (list)                : Contains the values for the labels of the bars in the bar plot\n",
        "\n",
        "            Returns:\n",
        "                    None\n",
        "  \"\"\"\n",
        "\n",
        "  months = [\"1\", \"2\", \"3\", \"4\", \"5\", \"6\", \"7\", \"8\", \"9\", \"10\", \"11\", \"12\"]\n",
        "\n",
        "  colors = {'BL 17-18':'blue', 'BL 18-19':'red', \"PD 17-18\":\"green\", \"PD 18-19\":\"yellow\"}\n",
        "  c = weather_data_df[\"Type\"].apply(lambda x: colors[x])\n",
        "  \n",
        "  plot = weather_data_df.plot(kind=\"bar\", x=\"Months\", y=\"{}\".format(weather_type), color=c)\n",
        "  plt.xticks((1, 2, 3, 4, 5, 6, 7, 8, 9, 10, 11, 12), months)\n",
        "  rects = plot.patches\n",
        "\n",
        "  for rect, label in zip(rects, labels):\n",
        "      height = rect.get_height()\n",
        "      if height < 0:\n",
        "        height *= -1\n",
        "      plot.text(rect.get_x() + rect.get_width() / 2, height + 3, label, ha='center', va='bottom')\n",
        "    \n",
        "  labels_colors = list(colors.keys())\n",
        "  handles = [plt.Rectangle((0,0),1,1, color=colors[label]) for label in labels_colors]\n",
        "  plt.legend(handles, labels_colors)\n",
        "\n",
        "  if weather_type == \"Temperature\":\n",
        "    plt.ylabel(\"Temperature in °C\")\n",
        "  elif weather_type == \"Rain\":  \n",
        "    plt.ylabel(\"Amount of rain in mm\")\n",
        "  elif weather_type == \"Humidity\":\n",
        "    plt.ylabel(\"Humidity in %\")\n",
        "\n",
        "  plt.style.use(\"seaborn-whitegrid\")\n",
        "  plt.tight_layout()\n",
        "\n",
        "  plt.gca().spines['right'].set_color('none')\n",
        "  plt.gca().spines['top'].set_color('none')\n",
        "\n",
        "  plt.savefig(\"plot_months_{}.png\".format(weather_type))"
      ],
      "execution_count": null,
      "outputs": []
    },
    {
      "cell_type": "code",
      "metadata": {
        "id": "Qc9rWlgNaLF7"
      },
      "source": [
        "def create_months_series(matches_df, league, weather_type):\n",
        "  \"\"\"\n",
        "    Creates a series with mean weather values for every month.\n",
        "\n",
        "            Parameters:\n",
        "                    matches_df (data frame) : Matches data frame from which the series is created\n",
        "                    league (str)            : Name and season of the league for the series\n",
        "                    weather_type (list)     : Types of weather variables for the series\n",
        "\n",
        "            Returns:\n",
        "                    monthly_avg (series) : A series of the monthly averages \n",
        "  \"\"\"\n",
        "  if weather_type == \"Temperature\":\n",
        "    months_matches = matches.set_index(\"Date\")\n",
        "    months = months_matches[months_matches[\"League\"] == league].index.month\n",
        "    monthly_avg = round(months_matches[months_matches[\"League\"] == league].groupby(months).Temperature.mean(), 1)\n",
        "    return monthly_avg\n",
        "  elif weather_type == \"Rain\":\n",
        "    months_matches = matches.set_index(\"Date\")\n",
        "    months = months_matches[months_matches[\"League\"] == league].index.month\n",
        "    monthly_avg = round(months_matches[months_matches[\"League\"] == league].groupby(months).Rain.mean(), 2)\n",
        "    return monthly_avg\n",
        "  else:\n",
        "    months_matches = matches.set_index(\"Date\")\n",
        "    months = months_matches[months_matches[\"League\"] == league].index.month\n",
        "    monthly_avg = round(months_matches[months_matches[\"League\"] == league].groupby(months).Humidity.mean(), 1)\n",
        "    return monthly_avg\n",
        "\n",
        "months_df = pd.DataFrame(create_months_series(matches, \"BL 17-18\", \"Temperature\"))\n",
        "months_df.rename(columns={\"Temperature\":\"Temperature BL 17-18\"}, inplace=True)\n",
        "months_df[\"Temperature BL 18-19\"] = create_months_series(matches, \"BL 18-19\", \"Temperature\")\n",
        "months_df[\"Temperature PD 17-18\"] = create_months_series(matches, \"PD 17-18\", \"Temperature\")\n",
        "months_df[\"Temperature PD 18-19\"] = create_months_series(matches, \"PD 18-19\", \"Temperature\")\n",
        "\n",
        "months_df[\"Rain BL 17-18\"] = create_months_series(matches, \"BL 17-18\", \"Rain\")\n",
        "months_df[\"Rain BL 18-19\"] = create_months_series(matches, \"BL 18-19\", \"Rain\")\n",
        "months_df[\"Rain PD 17-18\"] = create_months_series(matches, \"PD 17-18\", \"Rain\")\n",
        "months_df[\"Rain PD 18-19\"] = create_months_series(matches, \"PD 18-19\", \"Rain\")\n",
        "\n",
        "months_df[\"Humidity BL 17-18\"] = create_months_series(matches, \"BL 17-18\", \"Humidity\")\n",
        "months_df[\"Humidity BL 18-19\"] = create_months_series(matches, \"BL 18-19\", \"Humidity\")\n",
        "months_df[\"Humidity PD 17-18\"] = create_months_series(matches, \"PD 17-18\", \"Humidity\")\n",
        "months_df[\"Humidity PD 18-19\"] = create_months_series(matches, \"PD 18-19\", \"Humidity\")\n",
        "\n",
        "months_df"
      ],
      "execution_count": null,
      "outputs": []
    },
    {
      "cell_type": "code",
      "metadata": {
        "id": "F3ywTtiY_ou7"
      },
      "source": [
        "# reindex to have the rows ordered according to the months of the season\n",
        "\n",
        "months_df = months_df.reindex([8,9,10,11,12,1,2,3,4,5])\n",
        "months_df"
      ],
      "execution_count": null,
      "outputs": []
    },
    {
      "cell_type": "code",
      "metadata": {
        "id": "OcWPcixtm27o"
      },
      "source": [
        "# create df with the index of months_df resetted to have the x values in the plots in order of the months of the season\n",
        "\n",
        "new_months_df = months_df.reset_index()\n",
        "new_months_df"
      ],
      "execution_count": null,
      "outputs": []
    },
    {
      "cell_type": "code",
      "metadata": {
        "id": "tp5yySDUoG5-"
      },
      "source": [
        "# print the plots for mean values for the temperatures, amount of rain and humidity for every month in every league and season\n",
        "\n",
        "# temperature\n",
        "print(new_months_df.iloc[:, 1:5].plot(color=[\"#005b96\", \"#e29d3f\", \"#56b24e\", \"#b72e20\"], legend=None))\n",
        "plt.xticks((0, 1, 2, 3, 4, 5, 6, 7, 8, 9), (8, 9, 10, 11, 12, 1, 2, 3, 4, 5))\n",
        "plt.text(x = 7.75, y = 18, s = \"BL 17/18\", color = \"#005b96\", rotation = 45)\n",
        "plt.text(x = 7.8, y = 11.8, s = \"BL 18/19\", color = \"#e29d3f\", rotation = 17)\n",
        "plt.text(x = 4.2, y = 8, s = \"PD 17/18\", color = \"#56b24e\", rotation = -10)\n",
        "plt.text(x = 4.75, y = 11, s = \"PD 18/19\", color = \"#b72e20\", rotation = 26)\n",
        "plt.xlabel(\"Monat der Saison\")\n",
        "plt.ylabel(\"Temperatur in °C\")\n",
        "sns.set(style=\"whitegrid\")\n",
        "plt.rcParams['figure.dpi'] = 360\n",
        "plt.tight_layout()\n",
        "sns.despine(left=True)\n",
        "plt.savefig(\"plot_months_{}.png\".format(\"temperature\"))\n",
        "\n",
        "# rain\n",
        "print(new_months_df.iloc[:, 5:9].plot(color=[\"#005b96\", \"#e29d3f\", \"#56b24e\", \"#b72e20\"], legend=None))\n",
        "plt.xticks((0, 1, 2, 3, 4, 5, 6, 7, 8, 9), (8, 9, 10, 11, 12, 1, 2, 3, 4, 5))\n",
        "plt.text(x = 4, y = 0.31, s = \"BL 17/18\", color = \"#005b96\", rotation = -42)\n",
        "plt.text(x = 5.25, y = 0.6, s = \"BL 18/19\", color = \"#e29d3f\", rotation = 0)\n",
        "plt.text(x = 7, y = 0.12, s = \"PD 17/18\", color = \"#56b24e\", rotation = -38)\n",
        "plt.text(x = 0, y = 0, s = \"PD 18/19\", color = \"#b72e20\", rotation = 0)\n",
        "plt.xlabel(\"Monat der Saison\")\n",
        "plt.ylabel(\"Regenmenge in mm\")\n",
        "sns.set(style=\"whitegrid\")\n",
        "plt.rcParams['figure.dpi'] = 360\n",
        "plt.tight_layout()\n",
        "sns.despine(left=True)\n",
        "plt.savefig(\"plot_months_{}.png\".format(\"rain\"))\n",
        "\n",
        "# humidity\n",
        "print(new_months_df.iloc[:, 9:].plot(color=[\"#005b96\", \"#e29d3f\", \"#56b24e\", \"#b72e20\"], legend=None))\n",
        "plt.xticks((0, 1, 2, 3, 4, 5, 6, 7, 8, 9), (8, 9, 10, 11, 12, 1, 2, 3, 4, 5))\n",
        "plt.text(x = 0.6, y = 71.6, s = \"BL 17/18\", color = \"#005b96\", rotation = 11)\n",
        "plt.text(x = 3.7, y = 71.8, s = \"BL 18/19\", color = \"#e29d3f\", rotation = -37)\n",
        "plt.text(x = 6.8, y = 65.3, s = \"PD 17/18\", color = \"#56b24e\", rotation = -15)\n",
        "plt.text(x = 5, y = 51.9, s = \"PD 18/19\", color = \"#b72e20\", rotation = -27)\n",
        "plt.xlabel(\"Monat der Saison\")\n",
        "plt.ylabel(\"Luftfeuchtigkeit in %\")\n",
        "sns.set(style=\"whitegrid\")\n",
        "plt.rcParams['figure.dpi'] = 360\n",
        "plt.tight_layout()\n",
        "sns.despine(left=True)\n",
        "plt.savefig(\"plot_months_{}.png\".format(\"humidity\"))"
      ],
      "execution_count": null,
      "outputs": []
    }
  ]
}